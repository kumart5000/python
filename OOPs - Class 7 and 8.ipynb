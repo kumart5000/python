{
 "cells": [
  {
   "cell_type": "code",
   "execution_count": 2,
   "metadata": {},
   "outputs": [],
   "source": [
    "#Members of one class inside another class\n",
    "#By Composition (Has a relationship)\n",
    "#By Inheritance (Is a relationship)\n",
    "\n",
    "#Composition - By using class name or by creating object we can access members of one class inside another class"
   ]
  },
  {
   "cell_type": "code",
   "execution_count": 5,
   "metadata": {},
   "outputs": [
    {
     "name": "stdout",
     "output_type": "stream",
     "text": [
      "Class car using engine class functionality\n",
      "10\n",
      "20\n",
      "Engine specitfic functionality\n"
     ]
    }
   ],
   "source": [
    "class Engine: \n",
    "    a = 10\n",
    "    def __init__(self):\n",
    "        self.b = 20\n",
    "        \n",
    "    def m1(self):\n",
    "        print('Engine specitfic functionality')\n",
    "    \n",
    "class Car: \n",
    "    def __init__(self):\n",
    "        self.engine = Engine()\n",
    "        \n",
    "    def m2(self):\n",
    "        print('Class car using engine class functionality')\n",
    "        print(self.engine.a)\n",
    "        print(self.engine.b)\n",
    "        self.engine.m1()\n",
    "        \n",
    "c = Car()\n",
    "c.m2()\n",
    "#What is a relation between car and engine ? Car class HAS A Engine reference"
   ]
  },
  {
   "cell_type": "code",
   "execution_count": 10,
   "metadata": {},
   "outputs": [
    {
     "name": "stdout",
     "output_type": "stream",
     "text": [
      "Employee Number: 100\n",
      "Employee Name: Rahul\n",
      "Car Information\n",
      "Car Name: Maruti 800\n",
      "Car Model: 800\n",
      "Car Color: Grey\n"
     ]
    }
   ],
   "source": [
    "class Car: \n",
    "    def __init__(self, name, model, color):\n",
    "        self.name = name\n",
    "        self.model = model\n",
    "        self.color = color\n",
    "        \n",
    "    def getinfo(self):\n",
    "        print('Car Name:', self.name)\n",
    "        print('Car Model:', self.model)\n",
    "        print('Car Color:', self.color)\n",
    "        \n",
    "        \n",
    "class Employee:\n",
    "    def __init__(self,eno, ename, car):\n",
    "        self.eno = eno\n",
    "        self.ename = ename\n",
    "        self.car = car\n",
    "    def empinfo(self):\n",
    "        print('Employee Number:', self.eno)\n",
    "        print('Employee Name:', self.ename)\n",
    "        print('Car Information')\n",
    "        self.car.getinfo()\n",
    "        \n",
    "c = Car('Maruti 800', '800', 'Grey')\n",
    "e = Employee(100, 'Rahul',c)\n",
    "e.empinfo()"
   ]
  },
  {
   "cell_type": "code",
   "execution_count": 11,
   "metadata": {},
   "outputs": [
    {
     "name": "stdout",
     "output_type": "stream",
     "text": [
      "10\n",
      "20\n",
      "M1 method of X class\n",
      "30\n",
      "40\n",
      "M2 Method of Y class\n",
      "Inside m3 method of Y class\n"
     ]
    }
   ],
   "source": [
    "class X:\n",
    "    a = 10\n",
    "    def __init__(self):\n",
    "        self.b = 20\n",
    "    def m1(self):\n",
    "        print('M1 method of X class')\n",
    "        \n",
    "\n",
    "class Y:\n",
    "    c = 30\n",
    "    def __init__(self):\n",
    "        self.d = 40\n",
    "        \n",
    "    def m2(self):\n",
    "        print('M2 Method of Y class')\n",
    "        \n",
    "    def m3(self):\n",
    "        x1 = X()\n",
    "        print(x1.a)\n",
    "        print(x1.b)\n",
    "        x1.m1()\n",
    "        print(self.c)\n",
    "        print(self.d)\n",
    "        self.m2()\n",
    "        print('Inside m3 method of Y class')\n",
    "        \n",
    "y1 = Y()\n",
    "y1.m3()\n",
    "            "
   ]
  },
  {
   "cell_type": "code",
   "execution_count": 12,
   "metadata": {},
   "outputs": [],
   "source": [
    "#Inheritance \n"
   ]
  },
  {
   "cell_type": "code",
   "execution_count": 21,
   "metadata": {},
   "outputs": [],
   "source": [
    "class P:\n",
    "    a = 10\n",
    "    def __init__(self):\n",
    "        self.b = 20\n",
    "        \n",
    "    def m1(self):\n",
    "        print('Parent class instance method')\n",
    "        \n",
    "    @classmethod\n",
    "    def m2(cls):\n",
    "        print('Parent class method')\n",
    "    @staticmethod\n",
    "    def m3():\n",
    "        print('Parent class static method')\n",
    "        \n",
    "class C(P):\n",
    "    pass"
   ]
  },
  {
   "cell_type": "code",
   "execution_count": 20,
   "metadata": {},
   "outputs": [
    {
     "name": "stdout",
     "output_type": "stream",
     "text": [
      "Parent class instance method\n",
      "Parent class method\n",
      "Parent class static method\n"
     ]
    }
   ],
   "source": [
    "p = P()\n",
    "p.a\n",
    "p.b\n",
    "p.m1()\n",
    "p.m2()\n",
    "p.m3()"
   ]
  },
  {
   "cell_type": "code",
   "execution_count": 27,
   "metadata": {},
   "outputs": [
    {
     "name": "stdout",
     "output_type": "stream",
     "text": [
      "Parent class instance method\n",
      "Parent class method\n",
      "Parent class static method\n"
     ]
    }
   ],
   "source": [
    "c = C()\n",
    "c.a\n",
    "c.b\n",
    "c.m1()\n",
    "c.m2()\n",
    "c.m3()"
   ]
  },
  {
   "cell_type": "code",
   "execution_count": 31,
   "metadata": {},
   "outputs": [
    {
     "name": "stdout",
     "output_type": "stream",
     "text": [
      "Child class method\n",
      "Parent class method\n"
     ]
    }
   ],
   "source": [
    "class P:\n",
    "    def m1(self):\n",
    "        print('Parent class method')\n",
    "class C(P):\n",
    "    def m2(self):\n",
    "        print('Child class method')\n",
    "c = C()\n",
    "c.m2()\n",
    "c.m1()"
   ]
  },
  {
   "cell_type": "code",
   "execution_count": 36,
   "metadata": {},
   "outputs": [
    {
     "name": "stdout",
     "output_type": "stream",
     "text": [
      "10 30 40\n"
     ]
    }
   ],
   "source": [
    "class P:\n",
    "    a = 10\n",
    "    def __init__(self):\n",
    "        self.b = 20\n",
    "        \n",
    "class C(P):\n",
    "    c = 30\n",
    "    def __init__(self):\n",
    "        self.d = 40\n",
    "        \n",
    "c = C()\n",
    "print(c.a,c.c, c.d)"
   ]
  },
  {
   "cell_type": "code",
   "execution_count": 38,
   "metadata": {},
   "outputs": [
    {
     "name": "stdout",
     "output_type": "stream",
     "text": [
      "10 20 30 40\n"
     ]
    }
   ],
   "source": [
    "class P:\n",
    "    a = 10\n",
    "    def __init__(self):\n",
    "        self.b = 20\n",
    "        \n",
    "class C(P):\n",
    "    c = 30\n",
    "    def __init__(self):\n",
    "        super().__init__()\n",
    "        self.d = 40\n",
    "c = C()\n",
    "print(c.a, c.b, c.c, c.d)"
   ]
  },
  {
   "cell_type": "code",
   "execution_count": 40,
   "metadata": {},
   "outputs": [
    {
     "name": "stdout",
     "output_type": "stream",
     "text": [
      "Parent Method\n",
      "Child Method\n"
     ]
    }
   ],
   "source": [
    "#Types of Inheritance \n",
    "#Single Inheritance \n",
    "class P:\n",
    "    def m1(self):\n",
    "        print('Parent Method')\n",
    "class C(P):\n",
    "    def m2(self):\n",
    "        print('Child Method')\n",
    "c = C()\n",
    "c.m1()\n",
    "c.m2()"
   ]
  },
  {
   "cell_type": "code",
   "execution_count": 45,
   "metadata": {},
   "outputs": [
    {
     "name": "stdout",
     "output_type": "stream",
     "text": [
      "Sub Child Method\n",
      "Child Method\n",
      "Parent Method\n"
     ]
    }
   ],
   "source": [
    "#Multilevel Inheritance \n",
    "class P:\n",
    "    def m1(self):\n",
    "        print('Parent Method')\n",
    "        \n",
    "class C(P):\n",
    "    def m2(self):\n",
    "        print('Child Method')\n",
    "        \n",
    "class CC(C):\n",
    "    def m3(self):\n",
    "        print('Sub Child Method')\n",
    "        \n",
    "cc = CC()\n",
    "cc.m3()\n",
    "cc.m2()\n",
    "cc.m1()"
   ]
  },
  {
   "cell_type": "code",
   "execution_count": 56,
   "metadata": {},
   "outputs": [
    {
     "name": "stdout",
     "output_type": "stream",
     "text": [
      "Child 1 Method\n",
      "Parent Method\n",
      "Child 2 Method\n",
      "Parent Method\n"
     ]
    }
   ],
   "source": [
    "#Hierarchical Inheritance \n",
    "class P:\n",
    "    def m1(self):\n",
    "        print('Parent Method')\n",
    "        \n",
    "class C1(P):\n",
    "    def m2(self):\n",
    "        print('Child 1 Method')\n",
    "        \n",
    "class C2(P):\n",
    "    def m3(self):\n",
    "        print('Child 2 Method')\n",
    "        \n",
    "c1 = C1()\n",
    "c1.m2()\n",
    "c1.m1()\n",
    "#c1.m3()\n",
    "c2 = C2()\n",
    "c2.m3()\n",
    "c2.m1()\n",
    "#c2.m2()"
   ]
  },
  {
   "cell_type": "code",
   "execution_count": 62,
   "metadata": {},
   "outputs": [
    {
     "name": "stdout",
     "output_type": "stream",
     "text": [
      "Child Method\n",
      "Parent 2 Method\n",
      "Parent 1 Method\n"
     ]
    }
   ],
   "source": [
    "#Multiple Inheritance \n",
    "class P1:\n",
    "    def m1(self):\n",
    "        print('Parent 1 Method')\n",
    "\n",
    "class P2:\n",
    "    def m2(self):\n",
    "        print('Parent 2 Method')\n",
    "        \n",
    "class C(P1,P2):\n",
    "    def m3(self):\n",
    "        print('Child Method')\n",
    "        \n",
    "c = C()\n",
    "c.m3()\n",
    "c.m2()\n",
    "c.m1()"
   ]
  },
  {
   "cell_type": "code",
   "execution_count": 64,
   "metadata": {},
   "outputs": [
    {
     "name": "stdout",
     "output_type": "stream",
     "text": [
      "Child Method\n",
      "Parent 2 Method\n"
     ]
    }
   ],
   "source": [
    "#Multiple Inheritance \n",
    "class P1:\n",
    "    def m1(self):\n",
    "        print('Parent 1 Method')\n",
    "\n",
    "class P2:\n",
    "    def m1(self):\n",
    "        print('Parent 2 Method')\n",
    "        \n",
    "class C(P2,P1):\n",
    "    def m3(self):\n",
    "        print('Child Method')\n",
    "        \n",
    "c = C()\n",
    "c.m3()\n",
    "c.m1()"
   ]
  },
  {
   "cell_type": "code",
   "execution_count": 75,
   "metadata": {},
   "outputs": [
    {
     "name": "stdout",
     "output_type": "stream",
     "text": [
      "Lets have Pizza and Cold Coffee Rahul 34\n",
      "Python Coding...\n",
      "Employee name: Rahul\n",
      "Employee Age: 34\n",
      "Employee No: 123\n",
      "Employee Sal: 10000\n",
      "Car Info:\n",
      "\tCar Name: Innova\tCar Model: Classic\tCar color: Silver\n"
     ]
    }
   ],
   "source": [
    "class Car:\n",
    "    def __init__(self, name, model, color):\n",
    "        self.name = name \n",
    "        self.model = model \n",
    "        self.color = color\n",
    "        \n",
    "    def getinfo(self):\n",
    "        print('\\tCar Name: {}\\tCar Model: {}\\tCar color: {}'.format(self.name, self.model, self.color))\n",
    "        \n",
    "        \n",
    "class Person:\n",
    "    def __init__(self, name, age):\n",
    "        self.name = name \n",
    "        self.age = age\n",
    "        \n",
    "    def eat_n_drink(self):\n",
    "        print('Lets have Pizza and Cold Coffee', self.name,self.age)\n",
    "        \n",
    "class Employee(Person): #Inheritance\n",
    "    def __init__(self, name, age,eno, esal, car): #Composition\n",
    "        super().__init__(name, age)\n",
    "        self.eno = eno\n",
    "        self.esal = esal\n",
    "        self.car = car\n",
    "        \n",
    "    def work(self):\n",
    "        print('Python Coding...')\n",
    "        \n",
    "        \n",
    "    def empinfo(self):\n",
    "        print('Employee name:', self.name)\n",
    "        print('Employee Age:', self.age)\n",
    "        print('Employee No:', self.eno)\n",
    "        print('Employee Sal:', self.esal)\n",
    "        print('Car Info:')\n",
    "        self.car.getinfo()\n",
    "        \n",
    "c = Car('Innova', 'Classic', 'Silver')\n",
    "e = Employee('Rahul', 34, 123, 10000, c)\n",
    "        \n",
    "e.eat_n_drink()  \n",
    "e.work()\n",
    "e.empinfo()"
   ]
  },
  {
   "cell_type": "code",
   "execution_count": 78,
   "metadata": {},
   "outputs": [],
   "source": [
    "#In HAS A - We have two formats \n",
    "    #Composition \n",
    "    #Aggregation \n",
    "    \n",
    "    #Without existing college there is no chance of dept. Strongly associated and known as composition \n",
    "#In a department there are several professors going to work. Students not coming to one dept the professors will move to \n",
    "#Other department  - Aggregation \n",
    "\n",
    "#Without existing container object there may be a chance of contained object - Weak assocaiton and known as aggregation \n",
    "class Student:\n",
    "    college_name = 'RahulTEch' #Weak assocaition - Aggregation \n",
    "    def __init__(self,name):\n",
    "        self.name = name #Strong assocaiton - Composition "
   ]
  },
  {
   "cell_type": "code",
   "execution_count": null,
   "metadata": {},
   "outputs": [],
   "source": [
    "#Single \n",
    "#Multi Level\n",
    "#Hierachical \n",
    "#Multiple \n",
    "\n",
    "#Hybrid - \n",
    "#Cyclic - Not allowed in Python - not really required A(B) B(A) - Out of scope "
   ]
  },
  {
   "cell_type": "code",
   "execution_count": 86,
   "metadata": {},
   "outputs": [
    {
     "name": "stdout",
     "output_type": "stream",
     "text": [
      "[<class '__main__.D'>, <class '__main__.B'>, <class '__main__.C'>, <class '__main__.A'>, <class 'object'>]\n"
     ]
    }
   ],
   "source": [
    "#Hybrid Case 1: \n",
    "class A:pass\n",
    "\n",
    "class B(A):pass\n",
    "\n",
    "class C(A):pass\n",
    "\n",
    "class D(B,C):pass\n",
    "\n",
    "print(D.mro())"
   ]
  },
  {
   "cell_type": "code",
   "execution_count": 95,
   "metadata": {},
   "outputs": [
    {
     "name": "stdout",
     "output_type": "stream",
     "text": [
      "[<class '__main__.A'>, <class 'object'>]\n",
      "[<class '__main__.B'>, <class 'object'>]\n",
      "[<class '__main__.C'>, <class 'object'>]\n",
      "[<class '__main__.X'>, <class '__main__.A'>, <class '__main__.B'>, <class 'object'>]\n",
      "[<class '__main__.Y'>, <class '__main__.B'>, <class '__main__.C'>, <class 'object'>]\n",
      "[<class '__main__.P'>, <class '__main__.X'>, <class '__main__.A'>, <class '__main__.Y'>, <class '__main__.B'>, <class '__main__.C'>, <class 'object'>]\n"
     ]
    }
   ],
   "source": [
    "#Hybrid Case 2:\n",
    "class A: pass\n",
    "    \n",
    "class B: pass\n",
    "    \n",
    "class C: pass\n",
    "    \n",
    "class X(A,B): pass\n",
    "    \n",
    "class Y(B,C): pass\n",
    "\n",
    "class P(X,Y,C): pass\n",
    "\n",
    "\n",
    "#This is expected: P, X, Y, C, A, B ,O\n",
    "#print(P.mro())\n",
    "#This is coming: P, X, A, Y, B, C, O\n",
    "#In the Hybrid inheritance Python runs an internal algorithm when we have more levels\n",
    "\n",
    "print(A.mro())\n",
    "print(B.mro())\n",
    "print(C.mro())\n",
    "print(X.mro())\n",
    "print(Y.mro())\n",
    "print(P.mro())"
   ]
  },
  {
   "cell_type": "code",
   "execution_count": 96,
   "metadata": {},
   "outputs": [],
   "source": [
    "#XABO\n",
    "#head element - X \n",
    "#Tail - ABO\n",
    "#mro(O) = O\n",
    "#mro(A) = AO\n",
    "#mro(B) = BO\n",
    "#mro(C) = CO\n",
    "#mro(X) = XABO\n",
    "#mro(Y) = YBCO\n",
    "#mro(P) === ????\n",
    "\n",
    "#C3 Linearization Algorithm - Samuel Pedroni \n",
    "    #DLR (Depth first Left to Right)\n",
    "    \n",
    "#MRO(X) = X  + Merge(MRO(P1), MRO(P2), ....., parent list)\n",
    "#MRO(P) = P + Merge(MRO(X), MRO(Y), MRO(C), XYC)\n",
    "#       = P + Merge(XABO, YBCO, CO, XYC)\n",
    "#       = P + X + Merge(ABO, YBCO, CO, YC)\n",
    "#       = P + X + A + Merge(BO, YBCO, CO, YC)\n",
    "#       = P + X + A + B.... Hold \n",
    "#       = P + X + A + Y + Merge(BO, BCO, CO, C)\n",
    "#       = P + X + A + Y + B + Merge(O, CO, CO, C)\n",
    "#       = P + X + A + Y + B + O.....Hold\n",
    "#       = P + X + A + Y + B + C + Merge(O,O,O)\n",
    "#       = P + X + A + Y + B + C + O\n",
    "        \n",
    "        \n",
    "#This is coming: P, X, A, Y, B, C, O       "
   ]
  },
  {
   "cell_type": "code",
   "execution_count": 99,
   "metadata": {},
   "outputs": [
    {
     "name": "stdout",
     "output_type": "stream",
     "text": [
      "[<class '__main__.A'>, <class '__main__.B'>, <class '__main__.C'>, <class '__main__.D'>, <class '__main__.E'>, <class '__main__.F'>, <class 'object'>]\n"
     ]
    }
   ],
   "source": [
    "#Hybrid Case 3: \n",
    "class D:\n",
    "    pass\n",
    "\n",
    "class E:\n",
    "    pass\n",
    "\n",
    "class F:\n",
    "    pass\n",
    "\n",
    "class B(D,E):\n",
    "    pass\n",
    "\n",
    "class C(D,F):\n",
    "    pass\n",
    "\n",
    "class A(B,C):\n",
    "    pass\n",
    "\n",
    "#mro(A) = A + Merge(MRO(B), MRO(C), BC)\n",
    "#mro(A) = A + Merge(BDEO, CDFO, BC)\n",
    "#mro(A) = A + B + Merge(DEO, CDFO, C)\n",
    "#mro(A) = A + B + D .... Hold \n",
    "#mro(A) = A + B + C + Merge(DEO, DFO)\n",
    "#mro(A) = A + B + C + D + Merge(EO, FO)\n",
    "#mro(A) = A + B + C + D + E + Merge(O, FO)\n",
    "#mro(A) = A + B + C + D + E + O ... Hold\n",
    "#mro(A) = A + B + C + D + E + F + Merge (O,O)\n",
    "#mro(A) = A + B + C + D + E + F + O\n",
    "print(A.mro())\n"
   ]
  },
  {
   "cell_type": "code",
   "execution_count": null,
   "metadata": {},
   "outputs": [],
   "source": []
  },
  {
   "cell_type": "code",
   "execution_count": null,
   "metadata": {},
   "outputs": [],
   "source": []
  },
  {
   "cell_type": "code",
   "execution_count": null,
   "metadata": {},
   "outputs": [],
   "source": []
  },
  {
   "cell_type": "code",
   "execution_count": null,
   "metadata": {},
   "outputs": [],
   "source": []
  }
 ],
 "metadata": {
  "kernelspec": {
   "display_name": "Python 3",
   "language": "python",
   "name": "python3"
  },
  "language_info": {
   "codemirror_mode": {
    "name": "ipython",
    "version": 3
   },
   "file_extension": ".py",
   "mimetype": "text/x-python",
   "name": "python",
   "nbconvert_exporter": "python",
   "pygments_lexer": "ipython3",
   "version": "3.7.4"
  }
 },
 "nbformat": 4,
 "nbformat_minor": 2
}
