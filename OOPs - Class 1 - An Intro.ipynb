{
 "cells": [
  {
   "cell_type": "code",
   "execution_count": 7,
   "metadata": {},
   "outputs": [],
   "source": [
    "def ctof(c):\n",
    "    f = (c*9/5) + 32\n",
    "    return f"
   ]
  },
  {
   "cell_type": "code",
   "execution_count": 8,
   "metadata": {},
   "outputs": [],
   "source": [
    "a = ctof(10)"
   ]
  },
  {
   "cell_type": "code",
   "execution_count": 9,
   "metadata": {},
   "outputs": [
    {
     "data": {
      "text/plain": [
       "50.0"
      ]
     },
     "execution_count": 9,
     "metadata": {},
     "output_type": "execute_result"
    }
   ],
   "source": [
    "a"
   ]
  },
  {
   "cell_type": "code",
   "execution_count": 6,
   "metadata": {},
   "outputs": [
    {
     "name": "stdout",
     "output_type": "stream",
     "text": [
      "68.0\n"
     ]
    }
   ],
   "source": [
    "ctof(20)"
   ]
  },
  {
   "cell_type": "code",
   "execution_count": 14,
   "metadata": {},
   "outputs": [
    {
     "name": "stdout",
     "output_type": "stream",
     "text": [
      "50.0\n",
      "212.0\n",
      "69.8\n",
      "109.4\n"
     ]
    }
   ],
   "source": [
    "class Ctof:\n",
    "    def __init__(self,c):\n",
    "        self.c = c\n",
    "    def ctof(self):\n",
    "        f = (self.c * 9/5) + 32\n",
    "        print(f)\n",
    "c1 = Ctof(10)\n",
    "c2 = Ctof(100)\n",
    "c3 = Ctof(21)\n",
    "c4 = Ctof(43)\n",
    "c1.ctof()\n",
    "c2.ctof()\n",
    "c3.ctof()\n",
    "c4.ctof()"
   ]
  },
  {
   "cell_type": "code",
   "execution_count": 18,
   "metadata": {},
   "outputs": [
    {
     "name": "stdout",
     "output_type": "stream",
     "text": [
      "This is a class which will calculate the salary of an employee\n"
     ]
    }
   ],
   "source": [
    "class Employee: \n",
    "    '''This is a class which will calculate the salary of an employee'''\n",
    "    \n",
    "print(Employee.__doc__)"
   ]
  },
  {
   "cell_type": "code",
   "execution_count": 19,
   "metadata": {},
   "outputs": [
    {
     "name": "stdout",
     "output_type": "stream",
     "text": [
      "Help on class Employee in module __main__:\n",
      "\n",
      "class Employee(builtins.object)\n",
      " |  This is a class which will calculate the salary of an employee\n",
      " |  \n",
      " |  Data descriptors defined here:\n",
      " |  \n",
      " |  __dict__\n",
      " |      dictionary for instance variables (if defined)\n",
      " |  \n",
      " |  __weakref__\n",
      " |      list of weak references to the object (if defined)\n",
      "\n"
     ]
    }
   ],
   "source": [
    "help(Employee)"
   ]
  },
  {
   "cell_type": "code",
   "execution_count": 29,
   "metadata": {},
   "outputs": [
    {
     "name": "stdout",
     "output_type": "stream",
     "text": [
      "Hello my name is: Rahul\n",
      "Hello my emp id is: 1234\n",
      "Hello my salary is: 123456\n"
     ]
    }
   ],
   "source": [
    "class Employee: \n",
    "    def __init__(self, name, employeeid, salary):\n",
    "        self.name = 'Rahul'\n",
    "        self.employeeid = 1234\n",
    "        self.salary = 123456\n",
    "#__init__ Constructor         \n",
    "    def talk(self):\n",
    "        print('Hello my name is:', self.name)\n",
    "        print('Hello my emp id is:', self.employeeid)\n",
    "        print('Hello my salary is:', self.salary)\n",
    "        \n",
    "emp = Employee('Swadesh', 2212, 324356)\n",
    "emp.talk()"
   ]
  },
  {
   "cell_type": "code",
   "execution_count": 41,
   "metadata": {},
   "outputs": [],
   "source": [
    "class Employee:\n",
    "    def __init__(self):\n",
    "        pass\n",
    "e=Employee()"
   ]
  },
  {
   "cell_type": "code",
   "execution_count": 34,
   "metadata": {},
   "outputs": [
    {
     "name": "stdout",
     "output_type": "stream",
     "text": [
      "Hello my name is: Swadesh\n",
      "Hello my emp id is: 2212\n",
      "Hello my salary is: 324356\n",
      "Hello my name is: Khushal\n",
      "Hello my emp id is: 2222\n",
      "Hello my salary is: 324343\n"
     ]
    }
   ],
   "source": [
    "class Employee: \n",
    "    def __init__(self, name, employeeid, salary):\n",
    "        self.name = name\n",
    "        self.employeeid = employeeid\n",
    "        self.salary = salary\n",
    "#__init__ Constructor         \n",
    "    def talk(self):\n",
    "        print('Hello my name is:', self.name)\n",
    "        print('Hello my emp id is:', self.employeeid)\n",
    "        print('Hello my salary is:', self.salary)\n",
    "        \n",
    "emp1 = Employee('Swadesh', 2212, 324356)\n",
    "emp1.talk()\n",
    "emp2 = Employee('Khushal', 2222, 324343)\n",
    "emp2.talk()"
   ]
  },
  {
   "cell_type": "code",
   "execution_count": 35,
   "metadata": {},
   "outputs": [
    {
     "name": "stdout",
     "output_type": "stream",
     "text": [
      "Hello my name is: Swadesh\n",
      "Hello my emp id is: 2212\n",
      "Hello my salary is: 324356\n",
      "Hello my name is: Khushal\n",
      "Hello my emp id is: 2222\n",
      "Hello my salary is: 324343\n"
     ]
    }
   ],
   "source": [
    "class Employee: \n",
    "    def __init__(self, n, e, s):\n",
    "        self.n = n\n",
    "        self.e = e\n",
    "        self.s = s\n",
    "#__init__ Constructor         \n",
    "    def talk(self):\n",
    "        print('Hello my name is:', self.n)\n",
    "        print('Hello my emp id is:', self.e)\n",
    "        print('Hello my salary is:', self.s)\n",
    "        \n",
    "emp1 = Employee('Swadesh', 2212, 324356)\n",
    "emp1.talk()\n",
    "emp2 = Employee('Khushal', 2222, 324343)\n",
    "emp2.talk()"
   ]
  },
  {
   "cell_type": "code",
   "execution_count": 37,
   "metadata": {},
   "outputs": [
    {
     "name": "stdout",
     "output_type": "stream",
     "text": [
      "Hello my name is: Swadesh\n",
      "Hello my emp id is: 2212\n",
      "Hello my salary is: 324356\n",
      "Hello my name is: Khushal\n",
      "Hello my emp id is: 2222\n",
      "Hello my salary is: 324343\n"
     ]
    }
   ],
   "source": [
    "class Employee: \n",
    "    def __init__(self, n, e, s):\n",
    "        self.name = n\n",
    "        self.employeeid = e\n",
    "        self.salary = s\n",
    "#__init__ Constructor         \n",
    "    def talk(self):\n",
    "        print('Hello my name is:', self.name)\n",
    "        print('Hello my emp id is:', self.employeeid)\n",
    "        print('Hello my salary is:', self.salary)\n",
    "        \n",
    "emp1 = Employee('Swadesh', 2212, 324356)\n",
    "emp1.talk()\n",
    "emp2 = Employee('Khushal', 2222, 324343)\n",
    "emp2.talk()"
   ]
  },
  {
   "cell_type": "code",
   "execution_count": 42,
   "metadata": {},
   "outputs": [],
   "source": [
    "#__init__\n",
    "#Constructor \n",
    "    #1. Is a special Method in Python \n",
    "    #2. The name of the constructor should be __init__\n",
    "    #3. Constructor will be executed automatically whenever we are creating an object\n",
    "    #4. The main objective is to declare object related variables and perform initialzation \n",
    "    #5. Constructor will execute only once per object \n",
    "    #6. Constructor should take atleast one arguement that is self\n",
    "    #7. Constructor is optional and if we are not providing python internally provide \n",
    "        #default constructor"
   ]
  },
  {
   "cell_type": "code",
   "execution_count": null,
   "metadata": {},
   "outputs": [],
   "source": []
  }
 ],
 "metadata": {
  "kernelspec": {
   "display_name": "Python 3",
   "language": "python",
   "name": "python3"
  },
  "language_info": {
   "codemirror_mode": {
    "name": "ipython",
    "version": 3
   },
   "file_extension": ".py",
   "mimetype": "text/x-python",
   "name": "python",
   "nbconvert_exporter": "python",
   "pygments_lexer": "ipython3",
   "version": "3.8.3"
  }
 },
 "nbformat": 4,
 "nbformat_minor": 2
}
