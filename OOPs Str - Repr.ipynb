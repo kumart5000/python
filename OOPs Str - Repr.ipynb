{
 "cells": [
  {
   "cell_type": "code",
   "execution_count": 2,
   "metadata": {},
   "outputs": [
    {
     "name": "stdout",
     "output_type": "stream",
     "text": [
      "<__main__.Student object at 0x0000024821CB4BC8>\n"
     ]
    }
   ],
   "source": [
    "class Student:\n",
    "    def __init__(self,name,rollno):\n",
    "        self.name = name\n",
    "        self.rollno = rollno\n",
    "        \n",
    "s1 = Student('Rahul',100)\n",
    "print(s1)"
   ]
  },
  {
   "cell_type": "code",
   "execution_count": 5,
   "metadata": {},
   "outputs": [
    {
     "name": "stdout",
     "output_type": "stream",
     "text": [
      "This is the student name Rahul and rollno: 100\n"
     ]
    }
   ],
   "source": [
    "class Student:\n",
    "    def __init__(self,name,rollno):\n",
    "        self.name = name\n",
    "        self.rollno = rollno\n",
    "    def __str__(self):\n",
    "        return 'This is the student name {} and rollno: {}'.format(self.name, self.rollno)\n",
    "        \n",
    "s1 = Student('Rahul',100)\n",
    "print(s1)\n",
    "#print(s1.__str__()) internally called\n",
    "#Object to string represent - __str__"
   ]
  },
  {
   "cell_type": "code",
   "execution_count": 9,
   "metadata": {},
   "outputs": [
    {
     "name": "stdout",
     "output_type": "stream",
     "text": [
      "2020-06-23 15:17:15.467514\n"
     ]
    },
    {
     "ename": "SyntaxError",
     "evalue": "invalid token (<string>, line 1)",
     "output_type": "error",
     "traceback": [
      "Traceback \u001b[1;36m(most recent call last)\u001b[0m:\n",
      "  File \u001b[0;32m\"C:\\Users\\Admin\\Anaconda3\\lib\\site-packages\\IPython\\core\\interactiveshell.py\"\u001b[0m, line \u001b[0;32m3326\u001b[0m, in \u001b[0;35mrun_code\u001b[0m\n    exec(code_obj, self.user_global_ns, self.user_ns)\n",
      "\u001b[1;36m  File \u001b[1;32m\"<ipython-input-9-6c2bc8cf5859>\"\u001b[1;36m, line \u001b[1;32m8\u001b[1;36m, in \u001b[1;35m<module>\u001b[1;36m\u001b[0m\n\u001b[1;33m    d = eval(s)\u001b[0m\n",
      "\u001b[1;36m  File \u001b[1;32m\"<string>\"\u001b[1;36m, line \u001b[1;32m1\u001b[0m\n\u001b[1;33m    2020-06-23 15:17:15.467514\u001b[0m\n\u001b[1;37m          ^\u001b[0m\n\u001b[1;31mSyntaxError\u001b[0m\u001b[1;31m:\u001b[0m invalid token\n"
     ]
    }
   ],
   "source": [
    "#__str__() vs __repr__() - Diff between\n",
    "    #Obj to str - Get string representation \n",
    "    #Obj to str and str to obj - Get string representation and we can go to obj representation as well \n",
    "import datetime\n",
    "today = datetime.datetime.now()\n",
    "s = str(today)\n",
    "print(s)\n",
    "d = eval(s)"
   ]
  },
  {
   "cell_type": "code",
   "execution_count": 13,
   "metadata": {},
   "outputs": [
    {
     "name": "stdout",
     "output_type": "stream",
     "text": [
      "datetime.datetime(2020, 6, 23, 15, 19, 26, 719111)\n",
      "<class 'str'>\n",
      "2020-06-23 15:19:26.719111\n",
      "<class 'datetime.datetime'>\n"
     ]
    }
   ],
   "source": [
    "#__str__() vs __repr__() - Diff between\n",
    "    #Obj to str - Get string representation \n",
    "    #Obj to str and str to obj - Get string representation and we can go to obj representation as well \n",
    "import datetime\n",
    "today = datetime.datetime.now()\n",
    "s = repr(today)\n",
    "print(s)\n",
    "print(type(s))\n",
    "d = eval(s)\n",
    "print(d)\n",
    "print(type(d))"
   ]
  },
  {
   "cell_type": "code",
   "execution_count": 24,
   "metadata": {},
   "outputs": [
    {
     "name": "stdout",
     "output_type": "stream",
     "text": [
      "Rahul's Current Account Balance:10\n",
      "Rahul's Current Account Balance:10010\n",
      "Rahul's Saving Account Balance:-1\n",
      "Insufficient funds in the account\n",
      "Rahul's Saving Account Balance:-1\n"
     ]
    }
   ],
   "source": [
    "class Account:\n",
    "    def __init__(self, name, balance, min_balance):\n",
    "        self.name = name \n",
    "        self.balance = balance \n",
    "        self.min_balance = min_balance\n",
    "        \n",
    "    def deposit(self,amount):\n",
    "        self.balance = self.balance + amount\n",
    "        \n",
    "    def withdraw(self,amount):\n",
    "        if self.balance - amount >= self.min_balance:\n",
    "            self.balance = self.balance - amount\n",
    "        else:\n",
    "            print('Insufficient funds in the account')\n",
    "            \n",
    "    def print_statement(self):\n",
    "        print('Account Balance:', self.balance)\n",
    "        \n",
    "class SavingsAccount(Account):\n",
    "    def __init__(self,name,balance):\n",
    "        super().__init__(name, balance, min_balance=0)\n",
    "    \n",
    "    def __str__(self):\n",
    "        return \"{}'s Saving Account Balance:{}\".format(self.name, self.balance)\n",
    "    \n",
    "class CurrentAccount(Account):\n",
    "    def __init__(self,name,balance):\n",
    "        super().__init__(name, balance, min_balance=-10000)\n",
    "    \n",
    "    def __str__(self):\n",
    "        return \"{}'s Current Account Balance:{}\".format(self.name, self.balance)\n",
    "c = CurrentAccount('Rahul', 10)     \n",
    "print(c)\n",
    "c.deposit(10000)\n",
    "print(c)\n",
    "s = SavingsAccount('Rahul',-1)\n",
    "print(s)\n",
    "s.withdraw(10000)\n",
    "print(s)"
   ]
  },
  {
   "cell_type": "code",
   "execution_count": 25,
   "metadata": {},
   "outputs": [
    {
     "name": "stdout",
     "output_type": "stream",
     "text": [
      "Welcome to  RahulBank\n",
      "Enter Your Namex\n",
      "d-Deposit \n",
      " w-Withdraw \n",
      " e-Exit\n",
      "Choose your optionx\n",
      "Invalid option... Please choose valid option\n",
      "d-Deposit \n",
      " w-Withdraw \n",
      " e-Exit\n",
      "Choose your option\n",
      "Invalid option... Please choose valid option\n",
      "d-Deposit \n",
      " w-Withdraw \n",
      " e-Exit\n",
      "Choose your optione\n",
      "Thank you for banking with us\n"
     ]
    },
    {
     "ename": "SystemExit",
     "evalue": "",
     "output_type": "error",
     "traceback": [
      "An exception has occurred, use %tb to see the full traceback.\n",
      "\u001b[1;31mSystemExit\u001b[0m\n"
     ]
    }
   ],
   "source": [
    "#Bank Application\n",
    "import sys\n",
    "class Customer:\n",
    "    '''Customer class with bank operations'''\n",
    "    bankname = 'RahulBank'\n",
    "    \n",
    "    def __init__(self,name,balance=0.0):\n",
    "        self.name = name\n",
    "        self.balance = balance\n",
    "        \n",
    "    def deposit(self, amount):\n",
    "        self.balance = self.balance + amount\n",
    "        print('The balance After Deposit:', self.balance)\n",
    "        \n",
    "    def withdraw(self,amount):\n",
    "        if amount > self.balance:\n",
    "            print('Insufficient funds, cannot perform this operation')\n",
    "            sys.exit()\n",
    "        self.balance = self.balance - amount\n",
    "        print('The balance after withdraw:', self.balance)\n",
    "        \n",
    "print('Welcome to ', Customer.bankname)\n",
    "name = input('Enter Your Name')\n",
    "c = Customer(name)\n",
    "while True:\n",
    "    print('d-Deposit \\n w-Withdraw \\n e-Exit')\n",
    "    option = input('Choose your option').lower()\n",
    "    if option =='d':\n",
    "        amount = float(input('Enter amount to deposit'))\n",
    "        c.deposit(amount)\n",
    "    elif option =='w':\n",
    "        amount = float(input('Enter amount to withdraw'))\n",
    "        c.withdraw(amount)\n",
    "    elif option == 'e':\n",
    "        print('Thank you for banking with us')\n",
    "        sys.exit()\n",
    "    else:\n",
    "        print('Invalid option... Please choose valid option')"
   ]
  },
  {
   "cell_type": "code",
   "execution_count": null,
   "metadata": {},
   "outputs": [
    {
     "name": "stdout",
     "output_type": "stream",
     "text": [
      "Welcome to  RahulBank\n",
      "Enter Your Namerahul\n",
      "d-Deposit \n",
      " w-Withdraw \n",
      " e-Exit\n",
      "Choose your optiond\n",
      "Enter amount to deposit100000\n",
      "The balance After Deposit: 100000.0\n",
      "d-Deposit \n",
      " w-Withdraw \n",
      " e-Exit\n",
      "Choose your optionw\n",
      "Enter amount to withdraw50\n",
      "Amount should be within the limit\n",
      "Enter amount to withdraw110\n",
      "The balance after withdraw: 99890.0\n",
      "d-Deposit \n",
      " w-Withdraw \n",
      " e-Exit\n"
     ]
    }
   ],
   "source": [
    "#Bank Application\n",
    "import sys\n",
    "class Customer:\n",
    "    '''Customer class with bank operations'''\n",
    "    bankname = 'RahulBank'\n",
    "    \n",
    "    def __init__(self,name,balance=0.0):\n",
    "        self.name = name\n",
    "        self.balance = balance\n",
    "        \n",
    "    def deposit(self, amount):\n",
    "        self.balance = self.balance + amount\n",
    "        print('The balance After Deposit:', self.balance)\n",
    "        \n",
    "    def withdraw(self,amount):\n",
    "        if amount > self.balance:\n",
    "            print('Insufficient funds, cannot perform this operation')\n",
    "            sys.exit()\n",
    "        self.balance = self.balance - amount\n",
    "        print('The balance after withdraw:', self.balance)\n",
    "        \n",
    "print('Welcome to ', Customer.bankname)\n",
    "name = input('Enter Your Name')\n",
    "c = Customer(name)\n",
    "while True:\n",
    "    print('d-Deposit \\n w-Withdraw \\n e-Exit')\n",
    "    option = input('Choose your option').lower()\n",
    "    if option =='d':\n",
    "        amount = float(input('Enter amount to deposit'))\n",
    "        c.deposit(amount)\n",
    "    elif option =='w':\n",
    "        while True:\n",
    "            amount = float(input('Enter amount to withdraw'))\n",
    "            if amount<100:\n",
    "                print('Amount should be within the limit')\n",
    "            else:\n",
    "                break\n",
    "        c.withdraw(amount)\n",
    "    elif option == 'e':\n",
    "        print('Thank you for banking with us')\n",
    "        sys.exit()\n",
    "    else:\n",
    "        print('Invalid option... Please choose valid option')"
   ]
  },
  {
   "cell_type": "code",
   "execution_count": 28,
   "metadata": {},
   "outputs": [
    {
     "name": "stdout",
     "output_type": "stream",
     "text": [
      "Welcome to  RahulBank\n",
      "Enter Your NameRahul\n",
      "d-Deposit \n",
      " w-Withdraw \n",
      " e-Exit\n",
      "Choose your optiond\n",
      "Enter amount to deposit10000\n",
      "The balance After Deposit: 10000.0\n",
      "d-Deposit \n",
      " w-Withdraw \n",
      " e-Exit\n",
      "Choose your optionw\n",
      "Enter amount to withdraw45\n",
      "Amount should be multiples of 100\n",
      "Enter amount to withdraw0\n",
      "Amount should be multiples of 100\n",
      "Enter amount to withdraw1000\n",
      "The balance after withdraw: 9000.0\n",
      "d-Deposit \n",
      " w-Withdraw \n",
      " e-Exit\n",
      "Choose your optione\n",
      "Thank you for banking with us\n"
     ]
    },
    {
     "ename": "SystemExit",
     "evalue": "",
     "output_type": "error",
     "traceback": [
      "An exception has occurred, use %tb to see the full traceback.\n",
      "\u001b[1;31mSystemExit\u001b[0m\n"
     ]
    }
   ],
   "source": [
    "#Bank Application\n",
    "import sys\n",
    "class Customer:\n",
    "    '''Customer class with bank operations'''\n",
    "    bankname = 'RahulBank'\n",
    "    \n",
    "    def __init__(self,name,balance=0.0):\n",
    "        self.name = name\n",
    "        self.balance = balance\n",
    "        \n",
    "    def deposit(self, amount):\n",
    "        self.balance = self.balance + amount\n",
    "        print('The balance After Deposit:', self.balance)\n",
    "        \n",
    "    def withdraw(self,amount):\n",
    "        if amount > self.balance:\n",
    "            print('Insufficient funds, cannot perform this operation')\n",
    "            sys.exit()\n",
    "        self.balance = self.balance - amount\n",
    "        print('The balance after withdraw:', self.balance)\n",
    "        \n",
    "print('Welcome to ', Customer.bankname)\n",
    "name = input('Enter Your Name')\n",
    "c = Customer(name)\n",
    "while True:\n",
    "    print('d-Deposit \\n w-Withdraw \\n e-Exit')\n",
    "    option = input('Choose your option').lower()\n",
    "    if option =='d':\n",
    "        amount = float(input('Enter amount to deposit'))\n",
    "        c.deposit(amount)\n",
    "    elif option =='w':\n",
    "        while True:\n",
    "            amount = float(input('Enter amount to withdraw'))\n",
    "            if not(amount>0 and amount%100==0):\n",
    "                print('Amount should be multiples of 100')\n",
    "            else:\n",
    "                break\n",
    "        c.withdraw(amount)\n",
    "    elif option == 'e':\n",
    "        print('Thank you for banking with us')\n",
    "        sys.exit()\n",
    "    else:\n",
    "        print('Invalid option... Please choose valid option')"
   ]
  },
  {
   "cell_type": "code",
   "execution_count": null,
   "metadata": {},
   "outputs": [],
   "source": []
  },
  {
   "cell_type": "code",
   "execution_count": null,
   "metadata": {},
   "outputs": [],
   "source": []
  }
 ],
 "metadata": {
  "kernelspec": {
   "display_name": "Python 3",
   "language": "python",
   "name": "python3"
  },
  "language_info": {
   "codemirror_mode": {
    "name": "ipython",
    "version": 3
   },
   "file_extension": ".py",
   "mimetype": "text/x-python",
   "name": "python",
   "nbconvert_exporter": "python",
   "pygments_lexer": "ipython3",
   "version": "3.7.4"
  }
 },
 "nbformat": 4,
 "nbformat_minor": 2
}
