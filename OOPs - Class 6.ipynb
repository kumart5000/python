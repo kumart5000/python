{
 "cells": [
  {
   "cell_type": "code",
   "execution_count": null,
   "metadata": {},
   "outputs": [],
   "source": [
    "#Garbage collector \n",
    "    #C++ - Programmer will be responsible (Creation as well as Destroy)\n",
    "    #Java and Python - GC \n",
    "    #GC is a part of Python virtual machine \n",
    "    #When there is no reference variable then it is eligible for GC\n",
    "    #GC - Enable "
   ]
  },
  {
   "cell_type": "code",
   "execution_count": 5,
   "metadata": {},
   "outputs": [
    {
     "name": "stdout",
     "output_type": "stream",
     "text": [
      "False\n",
      "False\n",
      "True\n"
     ]
    }
   ],
   "source": [
    "import gc\n",
    "print(gc.isenabled())\n",
    "gc.disable()\n",
    "print(gc.isenabled())\n",
    "gc.enable()\n",
    "print(gc.isenabled())"
   ]
  },
  {
   "cell_type": "code",
   "execution_count": 7,
   "metadata": {},
   "outputs": [],
   "source": [
    "#Destructor concept \n",
    "    #GC - Last wish \n",
    "        #One database connect , Network connection release that (clean up activities)\n",
    "        \n",
    "    #Destructor - \n",
    "    #Who is calling destructor : GC\n",
    "    #When GC will call destructor ? : Just before destroying the object \n",
    "    #For which purpose GC calls destroctor? : Clean up activities \n",
    "\n",
    "#The job of destructor is not to destroy the object just to do the clean up activiies , destroying the objects done by - GC "
   ]
  },
  {
   "cell_type": "code",
   "execution_count": null,
   "metadata": {},
   "outputs": [],
   "source": [
    "#Constructor\n",
    "def __init__(self):"
   ]
  },
  {
   "cell_type": "code",
   "execution_count": null,
   "metadata": {},
   "outputs": [],
   "source": [
    "#Destructor\n",
    "def __del__(self):"
   ]
  },
  {
   "cell_type": "code",
   "execution_count": null,
   "metadata": {},
   "outputs": [],
   "source": [
    "import time\n",
    "class Test:\n",
    "    def __init__(self):\n",
    "        print('Object Initialization')\n",
    "    def __del__(self):\n",
    "        print('Performing clean up activities')\n",
    "\n",
    "t1 = Test()\n",
    "print('Using the object T1 for my technical purpose')\n",
    "time.sleep(5)\n",
    "t1 = None\n",
    "time.sleep(10)\n",
    "print('End of application')"
   ]
  },
  {
   "cell_type": "code",
   "execution_count": 8,
   "metadata": {},
   "outputs": [
    {
     "name": "stdout",
     "output_type": "stream",
     "text": [
      "Obj Inti\n",
      "2915795991560\n",
      "2915795991560\n",
      "2915795991560\n"
     ]
    }
   ],
   "source": [
    "import time \n",
    "class Test:\n",
    "    def __init__(self):\n",
    "        print('Obj Inti')\n",
    "        \n",
    "    def __del__(self):\n",
    "        print('CLean up')\n",
    "        \n",
    "t1 = Test()\n",
    "t2 = t1 \n",
    "t3 = t2 \n",
    "#print(id(t1))\n",
    "#print(id(t2))\n",
    "#print(id(t3))\n",
    "\n",
    "del t1 \n",
    "time.sleep(10)\n",
    "print('Object not yet ready for destroy after deleting the T1')\n",
    "del t2 \n",
    "time.sleep(10)\n",
    "print('Object not yet ready for destroy after deleting the T2')\n",
    "del t3 \n",
    "time.sleep(10)\n",
    "print('Object is ready for destroy ')\n",
    "print('End of the app')"
   ]
  },
  {
   "cell_type": "code",
   "execution_count": null,
   "metadata": {},
   "outputs": [],
   "source": [
    "import time\n",
    "class Test:\n",
    "    def __init__(self):\n",
    "        print('Obj Ini')\n",
    "    def __del__(self):\n",
    "        print('Clean up ')\n",
    "        \n",
    "list = [Test(), Test(), Test()]\n",
    "print('End of the app')"
   ]
  },
  {
   "cell_type": "code",
   "execution_count": null,
   "metadata": {},
   "outputs": [],
   "source": []
  },
  {
   "cell_type": "code",
   "execution_count": null,
   "metadata": {},
   "outputs": [],
   "source": []
  },
  {
   "cell_type": "code",
   "execution_count": null,
   "metadata": {},
   "outputs": [],
   "source": []
  },
  {
   "cell_type": "code",
   "execution_count": null,
   "metadata": {},
   "outputs": [],
   "source": []
  },
  {
   "cell_type": "code",
   "execution_count": null,
   "metadata": {},
   "outputs": [],
   "source": []
  }
 ],
 "metadata": {
  "kernelspec": {
   "display_name": "Python 3",
   "language": "python",
   "name": "python3"
  },
  "language_info": {
   "codemirror_mode": {
    "name": "ipython",
    "version": 3
   },
   "file_extension": ".py",
   "mimetype": "text/x-python",
   "name": "python",
   "nbconvert_exporter": "python",
   "pygments_lexer": "ipython3",
   "version": "3.7.4"
  }
 },
 "nbformat": 4,
 "nbformat_minor": 2
}
