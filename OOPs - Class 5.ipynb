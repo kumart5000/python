{
 "cells": [
  {
   "cell_type": "code",
   "execution_count": 1,
   "metadata": {},
   "outputs": [],
   "source": [
    "#Passing the members of one class to another"
   ]
  },
  {
   "cell_type": "code",
   "execution_count": 9,
   "metadata": {},
   "outputs": [
    {
     "name": "stdout",
     "output_type": "stream",
     "text": [
      "Employee Number: 100\n",
      "Employee Name: Rahul\n",
      "Employee Salary: 15000\n",
      "Employee Number: 100\n",
      "Employee Name: Rahul\n",
      "Employee Salary: 25000\n"
     ]
    }
   ],
   "source": [
    "class Employee:\n",
    "    def __init__(self, eno, ename, esal):\n",
    "        self.eno = eno\n",
    "        self.ename = ename \n",
    "        self.esal = esal\n",
    "        \n",
    "    def display(self):\n",
    "        print('Employee Number:', self.eno)\n",
    "        print('Employee Name:', self.ename)\n",
    "        print('Employee Salary:', self.esal)\n",
    "        \n",
    "class Test:\n",
    "    \n",
    "    def modify(emp):\n",
    "        emp.esal = emp.esal + 10000\n",
    "        emp.display()\n",
    "    \n",
    "e = Employee(100, 'Rahul', 15000)\n",
    "e.display()\n",
    "\n",
    "Test.modify(e)"
   ]
  },
  {
   "cell_type": "code",
   "execution_count": 12,
   "metadata": {},
   "outputs": [
    {
     "name": "stdout",
     "output_type": "stream",
     "text": [
      "Hello\n",
      "Hello\n"
     ]
    }
   ],
   "source": [
    "class Test:\n",
    "    def modify(emp):\n",
    "        print('Hello')\n",
    "e1 = Test()\n",
    "e1.modify() #Instance\n",
    "Test.modify(10) #Static"
   ]
  },
  {
   "cell_type": "code",
   "execution_count": 14,
   "metadata": {},
   "outputs": [],
   "source": [
    "#Inner classes \n",
    "    #Classes inside another classes\n",
    "    #Without existing outer class inner class is of no use"
   ]
  },
  {
   "cell_type": "code",
   "execution_count": 20,
   "metadata": {},
   "outputs": [
    {
     "name": "stdout",
     "output_type": "stream",
     "text": [
      "Outer class object creation...\n",
      "Inner class object creation...\n",
      "Inner class method\n"
     ]
    }
   ],
   "source": [
    "class Outer:\n",
    "    def __init__(self):\n",
    "        print('Outer class object creation...')\n",
    "    \n",
    "    class Inner:\n",
    "        def __init__(self):\n",
    "            print('Inner class object creation...')\n",
    "            \n",
    "        def m1(self):\n",
    "            print('Inner class method')\n",
    "    \n",
    "o = Outer()\n",
    "i=o.Inner()\n",
    "i.m1()"
   ]
  },
  {
   "cell_type": "code",
   "execution_count": 21,
   "metadata": {},
   "outputs": [
    {
     "name": "stdout",
     "output_type": "stream",
     "text": [
      "Outer class object creation...\n",
      "Inner class object creation...\n",
      "Inner class method\n"
     ]
    }
   ],
   "source": [
    "i = Outer().Inner().m1()"
   ]
  },
  {
   "cell_type": "code",
   "execution_count": 23,
   "metadata": {},
   "outputs": [
    {
     "name": "stdout",
     "output_type": "stream",
     "text": [
      "Outer class object creation...\n",
      "Inner class object creation...\n",
      "Inner Inner class object creation...\n",
      "Inner Inner class method\n"
     ]
    }
   ],
   "source": [
    "class Outer:\n",
    "    def __init__(self):\n",
    "        print('Outer class object creation...')\n",
    "    \n",
    "    class Inner:\n",
    "        def __init__(self):\n",
    "            print('Inner class object creation...')\n",
    "            \n",
    "        class InnerInner:\n",
    "            def __init__(self):\n",
    "                print('Inner Inner class object creation...')\n",
    "                \n",
    "            def m1(self):\n",
    "                print('Inner Inner class method')\n",
    "i = Outer().Inner().InnerInner().m1()"
   ]
  },
  {
   "cell_type": "code",
   "execution_count": 33,
   "metadata": {},
   "outputs": [
    {
     "name": "stdout",
     "output_type": "stream",
     "text": [
      "Talking...\n",
      "Hello Rahul\n",
      "Talking...\n",
      "Thinking...\n"
     ]
    }
   ],
   "source": [
    "class Human:\n",
    "    def __init__(self):\n",
    "        self.name = 'Rahul'\n",
    "        self.head = self.Head()\n",
    "        self.brain = self.head.Brain()\n",
    "        \n",
    "        \n",
    "        \n",
    "    def display(self):\n",
    "        print('Hello', self.name)\n",
    "        self.head.talk()\n",
    "        self.brain.think()\n",
    "        \n",
    "    class Head:\n",
    "        def talk(self):\n",
    "            print('Talking...')\n",
    "            \n",
    "        class Brain:\n",
    "            def think(self):\n",
    "                print('Thinking...')\n",
    "        \n",
    "h = Human()\n",
    "h.display()"
   ]
  },
  {
   "cell_type": "code",
   "execution_count": 46,
   "metadata": {},
   "outputs": [
    {
     "name": "stdout",
     "output_type": "stream",
     "text": [
      "Hello Rahul\n",
      "Talking...\n",
      "Thinking...\n"
     ]
    }
   ],
   "source": [
    "class Human:\n",
    "    def __init__(self):\n",
    "        self.name = 'Rahul'\n",
    "        self.head = self.Head()\n",
    "        self.brain = self.head.Brain()\n",
    "        \n",
    "        \n",
    "    def display(self):\n",
    "        print('Hello', self.name)\n",
    "        self.head.talk()\n",
    "        self.brain.think()\n",
    "\n",
    "        \n",
    "    class Head:\n",
    "        def talk(self):\n",
    "            print('Talking...')\n",
    "            \n",
    "        class Brain:\n",
    "            def think(self):\n",
    "                print('Thinking...')\n",
    "        \n",
    "\n",
    "h = Human()\n",
    "h.display()"
   ]
  },
  {
   "cell_type": "code",
   "execution_count": 53,
   "metadata": {},
   "outputs": [
    {
     "name": "stdout",
     "output_type": "stream",
     "text": [
      "Customer Name: R\n",
      "DOB=10/11/2010\n"
     ]
    }
   ],
   "source": [
    "class Customer: \n",
    "    def __init__(self, name, dd,mm,yyyy):\n",
    "        self.name = name\n",
    "        self.dob = self.DOB(dd,mm,yyyy)\n",
    "        \n",
    "    def display(self):\n",
    "        print('Customer Name:', self.name)\n",
    "        self.dob.display()\n",
    "        \n",
    "        \n",
    "    class DOB:\n",
    "        def __init__(self, dd,mm,yyyy):\n",
    "            self.dd = dd\n",
    "            self.mm = mm\n",
    "            self.yyyy = yyyy\n",
    "            \n",
    "        def display(self):\n",
    "            print('DOB={}/{}/{}'.format(self.dd, self.mm, self.yyyy))\n",
    "        \n",
    "c = Customer('R', 10,11, 2010)\n",
    "c.display()"
   ]
  },
  {
   "cell_type": "code",
   "execution_count": 59,
   "metadata": {},
   "outputs": [
    {
     "name": "stdout",
     "output_type": "stream",
     "text": [
      "The sum is: 30\n",
      "The diff is: -10\n",
      "The mul is: 200\n",
      "The div is: 0.5\n",
      "\n",
      "The sum is: 300\n",
      "The diff is: -100\n",
      "The mul is: 20000\n",
      "The div is: 0.5\n",
      "\n",
      "The sum is: 3000\n",
      "The diff is: -1000\n",
      "The mul is: 2000000\n",
      "The div is: 0.5\n",
      "\n"
     ]
    }
   ],
   "source": [
    "class Test:\n",
    "    def m1(self):\n",
    "        a,b = 10,20\n",
    "        print('The sum is:', a + b)\n",
    "        print('The diff is:', a - b)\n",
    "        print('The mul is:', a * b)\n",
    "        print('The div is:', a / b)\n",
    "        print()\n",
    "        \n",
    "        a,b = 100,200\n",
    "        print('The sum is:', a + b)\n",
    "        print('The diff is:', a - b)\n",
    "        print('The mul is:', a * b)\n",
    "        print('The div is:', a / b)\n",
    "        print()\n",
    "        \n",
    "        a,b = 1000,2000\n",
    "        print('The sum is:', a + b)\n",
    "        print('The diff is:', a - b)\n",
    "        print('The mul is:', a * b)\n",
    "        print('The div is:', a / b)\n",
    "        print()\n",
    "t = Test()\n",
    "t.m1()"
   ]
  },
  {
   "cell_type": "code",
   "execution_count": 69,
   "metadata": {},
   "outputs": [
    {
     "name": "stdout",
     "output_type": "stream",
     "text": [
      "The sum is: 30\n",
      "The Diff is: -10\n",
      "The Mul is: 200\n",
      "The Div is: 0.5\n",
      "\n",
      "The sum is: 300\n",
      "The Diff is: -100\n",
      "The Mul is: 20000\n",
      "The Div is: 0.5\n",
      "\n",
      "The sum is: 3000\n",
      "The Diff is: -1000\n",
      "The Mul is: 2000000\n",
      "The Div is: 0.5\n",
      "\n"
     ]
    }
   ],
   "source": [
    "class Test:\n",
    "    def m1(self):\n",
    "        def calculator(a,b):\n",
    "            print('The sum is:', a+b)\n",
    "            print('The Diff is:', a-b)\n",
    "            print('The Mul is:', a*b)\n",
    "            print('The Div is:', a/b)\n",
    "            print()\n",
    "            \n",
    "        calculator(10,20)\n",
    "        calculator(100,200)\n",
    "        calculator(1000,2000)\n",
    "            \n",
    "t = Test()\n",
    "t.m1()"
   ]
  },
  {
   "cell_type": "code",
   "execution_count": null,
   "metadata": {},
   "outputs": [],
   "source": []
  },
  {
   "cell_type": "code",
   "execution_count": null,
   "metadata": {},
   "outputs": [],
   "source": []
  },
  {
   "cell_type": "code",
   "execution_count": null,
   "metadata": {},
   "outputs": [],
   "source": []
  },
  {
   "cell_type": "code",
   "execution_count": null,
   "metadata": {},
   "outputs": [],
   "source": []
  },
  {
   "cell_type": "code",
   "execution_count": null,
   "metadata": {},
   "outputs": [],
   "source": []
  },
  {
   "cell_type": "code",
   "execution_count": null,
   "metadata": {},
   "outputs": [],
   "source": []
  },
  {
   "cell_type": "code",
   "execution_count": null,
   "metadata": {},
   "outputs": [],
   "source": []
  },
  {
   "cell_type": "code",
   "execution_count": null,
   "metadata": {},
   "outputs": [],
   "source": []
  },
  {
   "cell_type": "code",
   "execution_count": null,
   "metadata": {},
   "outputs": [],
   "source": []
  },
  {
   "cell_type": "code",
   "execution_count": null,
   "metadata": {},
   "outputs": [],
   "source": []
  },
  {
   "cell_type": "code",
   "execution_count": null,
   "metadata": {},
   "outputs": [],
   "source": []
  },
  {
   "cell_type": "code",
   "execution_count": null,
   "metadata": {},
   "outputs": [],
   "source": []
  },
  {
   "cell_type": "code",
   "execution_count": null,
   "metadata": {},
   "outputs": [],
   "source": []
  },
  {
   "cell_type": "code",
   "execution_count": null,
   "metadata": {},
   "outputs": [],
   "source": []
  },
  {
   "cell_type": "code",
   "execution_count": null,
   "metadata": {},
   "outputs": [],
   "source": []
  }
 ],
 "metadata": {
  "kernelspec": {
   "display_name": "Python 3",
   "language": "python",
   "name": "python3"
  },
  "language_info": {
   "codemirror_mode": {
    "name": "ipython",
    "version": 3
   },
   "file_extension": ".py",
   "mimetype": "text/x-python",
   "name": "python",
   "nbconvert_exporter": "python",
   "pygments_lexer": "ipython3",
   "version": "3.7.4"
  }
 },
 "nbformat": 4,
 "nbformat_minor": 2
}
