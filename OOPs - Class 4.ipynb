{
 "cells": [
  {
   "cell_type": "code",
   "execution_count": 1,
   "metadata": {},
   "outputs": [],
   "source": [
    "#Types of methods \n",
    "    #Instance Methods (Object related method)\n",
    "    #Static Methods \n",
    "    #Class Methods "
   ]
  },
  {
   "cell_type": "code",
   "execution_count": 11,
   "metadata": {},
   "outputs": [
    {
     "name": "stdout",
     "output_type": "stream",
     "text": [
      "Hi Astha\n",
      "Your marks are: 95\n",
      "You got 1st grade\n"
     ]
    }
   ],
   "source": [
    "#Instance Method - Related to object \n",
    "    #Any method consists of instance variables - Instance method \n",
    "    #Inside the instance method , First keyword i.e. self is compulsory\n",
    "    \n",
    "class Student: \n",
    "    def __init__(self, name, marks):\n",
    "        self.name = name \n",
    "        self.marks = marks\n",
    "        self.display()\n",
    "        \n",
    "        \n",
    "    def display(self):\n",
    "        print('Hi', self.name)\n",
    "        print('Your marks are:', self.marks)\n",
    "        self.grade()\n",
    "        #If we want to call an instance method inside the instance method we will go for self keyword\n",
    "    \n",
    "    def grade(self):\n",
    "        if self.marks >=60:\n",
    "            print('You got 1st grade')\n",
    "        elif self.marks >=50:\n",
    "            print('You got 2nd grade')\n",
    "        elif self.marks >=35: \n",
    "            print('You got 3rd grade')\n",
    "        else: \n",
    "            print('You did not pass')\n",
    "            \n",
    "s1 = Student('Astha', 95)   \n",
    "#s1.display()\n",
    "#s1.grade()"
   ]
  },
  {
   "cell_type": "code",
   "execution_count": 13,
   "metadata": {},
   "outputs": [
    {
     "name": "stdout",
     "output_type": "stream",
     "text": [
      "Enter the number of students:2\n",
      "Enter the name of the studentMilind\n",
      "Enter the marks of the student45\n",
      "Enter the name of the studentPriyanka\n",
      "Enter the marks of the student67\n",
      "Student Name Milind\n",
      "Student Marks 45\n",
      "\n",
      "Student Name Priyanka\n",
      "Student Marks 67\n",
      "\n"
     ]
    }
   ],
   "source": [
    "#Setter and Getter methods\n",
    "#Setter - To set the values to the instance variables (Mutator Method)\n",
    "#Getter - To get the values of an instance variables (Accessor Method)\n",
    "\n",
    "class Student:\n",
    "    def setName(self, name):\n",
    "        self.name = name \n",
    "        \n",
    "    def getName(self):\n",
    "        return self.name\n",
    "    \n",
    "    def setMarks(self, marks):\n",
    "        self.marks = marks\n",
    "        \n",
    "    def getMarks(self):\n",
    "        return self.marks\n",
    "l = []\n",
    "n = int(input('Enter the number of students:'))\n",
    "for i in range(n):\n",
    "    s = Student()\n",
    "    name = input('Enter the name of the student')\n",
    "    marks = int(input('Enter the marks of the student'))\n",
    "    s.setName(name)\n",
    "    s.setMarks(marks)\n",
    "    l.append(s)\n",
    "for s in l:\n",
    "    print('Student Name', s.getName())\n",
    "    print('Student Marks', s.getMarks())\n",
    "    print()\n",
    "    \n",
    "    \n",
    "    "
   ]
  },
  {
   "cell_type": "code",
   "execution_count": 14,
   "metadata": {},
   "outputs": [
    {
     "data": {
      "text/plain": [
       "[<__main__.Student at 0x19428ea6608>, <__main__.Student at 0x194296bc8c8>]"
      ]
     },
     "execution_count": 14,
     "metadata": {},
     "output_type": "execute_result"
    }
   ],
   "source": [
    "l"
   ]
  },
  {
   "cell_type": "code",
   "execution_count": 16,
   "metadata": {},
   "outputs": [
    {
     "name": "stdout",
     "output_type": "stream",
     "text": [
      "TCS has total 10 employees\n"
     ]
    }
   ],
   "source": [
    "#Class Methods \n",
    "    #Inside the method implementation if we are using only static variables (WITHOUT INSTANCE VARIABLES)\n",
    "    \n",
    "#Atleast one instance  variables - > Instance method\n",
    "#Instance variables + Static variables - Both are present (Instance Method )\n",
    "\n",
    "#@classmethod #Decorator \n",
    "#cls\n",
    "#We can call class methods by using class name or object ref\n",
    "\n",
    "class Employee: \n",
    "    total_emp = 10\n",
    "    \n",
    "    @classmethod\n",
    "    def totemp(cls, compname):\n",
    "        print('{} has total {} employees'.format(compname, cls.total_emp))\n",
    "        \n",
    "Employee.totemp('TCS')"
   ]
  },
  {
   "cell_type": "code",
   "execution_count": 17,
   "metadata": {},
   "outputs": [
    {
     "name": "stdout",
     "output_type": "stream",
     "text": [
      "The no of objects created 3\n"
     ]
    }
   ],
   "source": [
    "class Test:\n",
    "    count = 0\n",
    "    def __init__(self):\n",
    "        Test.count = Test.count + 1\n",
    "        \n",
    "    @classmethod\n",
    "    def noofobj(cls):\n",
    "        print('The no of objects created', Test.count)\n",
    "        \n",
    "t1 = Test()\n",
    "t2 = Test()\n",
    "t3 = Test()\n",
    "Test.noofobj()"
   ]
  },
  {
   "cell_type": "code",
   "execution_count": 30,
   "metadata": {},
   "outputs": [
    {
     "name": "stdout",
     "output_type": "stream",
     "text": [
      "30\n"
     ]
    }
   ],
   "source": [
    "class Test:\n",
    "    count = 0\n",
    "    def __init__(self):\n",
    "        Test.count = Test.count + 1\n",
    "        \n",
    "    @staticmethod\n",
    "    def noofobj(x,y):\n",
    "        print(x+y)\n",
    "t = Test()    \n",
    "t.noofobj(10,20)"
   ]
  },
  {
   "cell_type": "code",
   "execution_count": 58,
   "metadata": {},
   "outputs": [
    {
     "name": "stdout",
     "output_type": "stream",
     "text": [
      "The sum is  30\n"
     ]
    }
   ],
   "source": [
    "#Static method \n",
    "    #Inside method if we are ot using instance and static variables \n",
    "    #General utility method \n",
    "    \n",
    "#@staticmethod\n",
    "class RahulMaths:\n",
    "    \n",
    "    def add(x,y):\n",
    "        print('The sum is ', x+y)\n",
    "    \n",
    "    \n",
    "    def product(x,y):\n",
    "        print('The product is', x*y)\n",
    "        \n",
    "    \n",
    "    def average(x,y):\n",
    "        print('The average is', (x+y)/2)\n",
    "#RahulMaths.add(10,20)  \n",
    "#RahulMaths.product(10,20)\n",
    "#RahulMaths.average(10,20)\n",
    "RahulMaths.add(10,20)\n",
    " "
   ]
  },
  {
   "cell_type": "code",
   "execution_count": null,
   "metadata": {},
   "outputs": [],
   "source": [
    "#Instance method - No decorator is required\n",
    "#Class Method - @classmethod  - Mandatory \n",
    "#Static method - @staticmethod - (Optional)\n",
    "cls - self - instance method "
   ]
  },
  {
   "cell_type": "code",
   "execution_count": null,
   "metadata": {},
   "outputs": [],
   "source": [
    "#Instance variables - (Instance method)\n",
    "#Static Variables - (Class Method )\n",
    "#Instance + Static - (Instance Method )\n",
    "#Instance + Local - (Instance Method )\n",
    "#Static + Local - (Class Method )\n",
    "#Local - (Static Method )"
   ]
  },
  {
   "cell_type": "code",
   "execution_count": null,
   "metadata": {},
   "outputs": [],
   "source": [
    "#No decorator - Only two options - Instance method or static method "
   ]
  },
  {
   "cell_type": "code",
   "execution_count": null,
   "metadata": {},
   "outputs": [],
   "source": [
    "class Test"
   ]
  },
  {
   "cell_type": "code",
   "execution_count": null,
   "metadata": {},
   "outputs": [],
   "source": [
    "#We call the static method - Either by class name or by obj ref "
   ]
  },
  {
   "cell_type": "code",
   "execution_count": 57,
   "metadata": {},
   "outputs": [
    {
     "name": "stdout",
     "output_type": "stream",
     "text": [
      "Some Method: instance | Static | Class\n",
      "1735851669576\n",
      "Some Method: instance | Static | Class\n",
      "1735859818568\n",
      "1735859818568\n",
      "1735851669576\n",
      "Some Method: instance | Static | Class\n",
      "140703843328688\n"
     ]
    }
   ],
   "source": [
    "class Test:\n",
    "    def m1(cls):\n",
    "        print('Some Method: instance | Static | Class')\n",
    "        print(id(cls))\n",
    "t1 = Test()     \n",
    "t1.m1()\n",
    "t2 = Test()\n",
    "t2.m1()\n",
    "print(id(t2))\n",
    "print(id(t1))\n",
    "Test.m1(10)"
   ]
  }
 ],
 "metadata": {
  "kernelspec": {
   "display_name": "Python 3",
   "language": "python",
   "name": "python3"
  },
  "language_info": {
   "codemirror_mode": {
    "name": "ipython",
    "version": 3
   },
   "file_extension": ".py",
   "mimetype": "text/x-python",
   "name": "python",
   "nbconvert_exporter": "python",
   "pygments_lexer": "ipython3",
   "version": "3.7.4"
  }
 },
 "nbformat": 4,
 "nbformat_minor": 2
}
