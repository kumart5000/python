{
 "cells": [
  {
   "cell_type": "code",
   "execution_count": 1,
   "metadata": {},
   "outputs": [],
   "source": [
    "#Abstract Methods\n",
    "#Abstract Classes \n",
    "#Interface \n",
    "#Public, Private and Protected members "
   ]
  },
  {
   "cell_type": "code",
   "execution_count": 8,
   "metadata": {},
   "outputs": [],
   "source": [
    "from abc import *\n",
    "#abstract base class\n",
    "#Abstact means hiding something, not complete\n",
    "class Vehicle:\n",
    "    @abstractmethod\n",
    "    def get_no_wheel(self):\n",
    "        pass\n",
    "    #Where we dont know implementation but still declaring it as a part of the code\n",
    "    \n",
    "class Veg:\n",
    "    @abstractmethod\n",
    "    def get_price(self):\n",
    "        pass"
   ]
  },
  {
   "cell_type": "code",
   "execution_count": 13,
   "metadata": {},
   "outputs": [
    {
     "ename": "TypeError",
     "evalue": "Can't instantiate abstract class Vehicle with abstract methods get_no_wheels",
     "output_type": "error",
     "traceback": [
      "\u001b[1;31m---------------------------------------------------------------------------\u001b[0m",
      "\u001b[1;31mTypeError\u001b[0m                                 Traceback (most recent call last)",
      "\u001b[1;32m<ipython-input-13-bcac6c55883f>\u001b[0m in \u001b[0;36m<module>\u001b[1;34m\u001b[0m\n\u001b[0;32m      5\u001b[0m         \u001b[1;32mpass\u001b[0m\u001b[1;33m\u001b[0m\u001b[1;33m\u001b[0m\u001b[0m\n\u001b[0;32m      6\u001b[0m \u001b[1;33m\u001b[0m\u001b[0m\n\u001b[1;32m----> 7\u001b[1;33m \u001b[0mv\u001b[0m \u001b[1;33m=\u001b[0m \u001b[0mVehicle\u001b[0m\u001b[1;33m(\u001b[0m\u001b[1;33m)\u001b[0m\u001b[1;33m\u001b[0m\u001b[1;33m\u001b[0m\u001b[0m\n\u001b[0m",
      "\u001b[1;31mTypeError\u001b[0m: Can't instantiate abstract class Vehicle with abstract methods get_no_wheels"
     ]
    }
   ],
   "source": [
    "#Abstact class - Implementation of the class not complete, Partial implementaiton is known as abstact class. \n",
    "class Vehicle(ABC):\n",
    "    @abstractmethod\n",
    "    def get_no_wheels(self): \n",
    "        pass\n",
    "    \n",
    "v = Vehicle()"
   ]
  },
  {
   "cell_type": "code",
   "execution_count": 12,
   "metadata": {},
   "outputs": [
    {
     "data": {
      "text/plain": [
       "<__main__.Test at 0x1f6e7061448>"
      ]
     },
     "execution_count": 12,
     "metadata": {},
     "output_type": "execute_result"
    }
   ],
   "source": [
    "class Test(ABC):\n",
    "    pass\n",
    "\n",
    "t = Test()\n",
    "t"
   ]
  },
  {
   "cell_type": "code",
   "execution_count": 15,
   "metadata": {},
   "outputs": [],
   "source": [
    "#Abstact class - Implementation of the class not complete, Partial implementaiton is known as abstact class. \n",
    "class Vehicle:\n",
    "    @abstractmethod\n",
    "    def get_no_wheels(self): \n",
    "        print('Hello')\n",
    "    \n",
    "v = Vehicle()"
   ]
  },
  {
   "cell_type": "code",
   "execution_count": 16,
   "metadata": {},
   "outputs": [],
   "source": [
    "#Abstact class - Implementation of the class not complete, Partial implementaiton is known as abstact class. \n",
    "class Vehicle:\n",
    "    @abstractmethod\n",
    "    def get_no_wheels(self): \n",
    "        pass\n",
    "    \n",
    "v = Vehicle()"
   ]
  },
  {
   "cell_type": "code",
   "execution_count": 17,
   "metadata": {},
   "outputs": [],
   "source": [
    "#Abstact class - Implementation of the class not complete, Partial implementaiton is known as abstact class. \n",
    "class Vehicle(ABC):\n",
    "    \n",
    "    def get_no_wheels(self): \n",
    "        pass\n",
    "    \n",
    "v = Vehicle()"
   ]
  },
  {
   "cell_type": "code",
   "execution_count": null,
   "metadata": {},
   "outputs": [],
   "source": [
    "#Abstract Method - Method having no proper implementation \n",
    "    #How to declare abstractmethod - @abstractmethod decorator\n",
    "    #@abstractmethod decorator present in abc module \n",
    "    #Child classes are responsible to provide the implementation for the parent class abstract method\n",
    "    \n",
    "    \n",
    "#Abstract Class - If implementation of the class is not complete (Partially complete)\n",
    "    #How to declare abstract class - We have to extend ABC Class\n",
    "    #class Test(ABC):\n",
    "    #   pass\n",
    "    \n",
    "    #Test is child and ABC is parent. Test class is Extending ABC class. Hence abstract class \n",
    "    #ABC class present in abc module\n",
    "    \n",
    "#Abstract class vs Abstract Method\n",
    "    #Abstract class contains any number of abstract methods including 0.\n",
    "    #Abstract class can contain normal methods as well\n",
    "    \n",
    "    \n",
    "#When object creation is not possible? \n",
    "    # If class is abstract and it contains atleast one abstract method then only method will not instantiate \n",
    "    # However, object creation is possbile \n",
    "        #Class is not abstract but contains one abstract method - Object creation is possible \n",
    "        # Class is abstract but it does not contain any abstract method "
   ]
  },
  {
   "cell_type": "code",
   "execution_count": 19,
   "metadata": {},
   "outputs": [
    {
     "ename": "TypeError",
     "evalue": "Can't instantiate abstract class Bus with abstract methods get_no_wheels",
     "output_type": "error",
     "traceback": [
      "\u001b[1;31m---------------------------------------------------------------------------\u001b[0m",
      "\u001b[1;31mTypeError\u001b[0m                                 Traceback (most recent call last)",
      "\u001b[1;32m<ipython-input-19-79dd46bc4170>\u001b[0m in \u001b[0;36m<module>\u001b[1;34m\u001b[0m\n\u001b[0;32m      6\u001b[0m \u001b[1;32mclass\u001b[0m \u001b[0mBus\u001b[0m\u001b[1;33m(\u001b[0m\u001b[0mVehicle\u001b[0m\u001b[1;33m)\u001b[0m\u001b[1;33m:\u001b[0m\u001b[1;33m\u001b[0m\u001b[1;33m\u001b[0m\u001b[0m\n\u001b[0;32m      7\u001b[0m     \u001b[1;32mpass\u001b[0m\u001b[1;33m\u001b[0m\u001b[1;33m\u001b[0m\u001b[0m\n\u001b[1;32m----> 8\u001b[1;33m \u001b[0mb\u001b[0m \u001b[1;33m=\u001b[0m \u001b[0mBus\u001b[0m\u001b[1;33m(\u001b[0m\u001b[1;33m)\u001b[0m\u001b[1;33m\u001b[0m\u001b[1;33m\u001b[0m\u001b[0m\n\u001b[0m",
      "\u001b[1;31mTypeError\u001b[0m: Can't instantiate abstract class Bus with abstract methods get_no_wheels"
     ]
    }
   ],
   "source": [
    "class Vehicle(ABC):\n",
    "    @abstractmethod\n",
    "    def get_no_wheels(self):\n",
    "        pass\n",
    "    \n",
    "class Bus(Vehicle):\n",
    "    pass\n",
    "b = Bus()"
   ]
  },
  {
   "cell_type": "code",
   "execution_count": 24,
   "metadata": {},
   "outputs": [
    {
     "data": {
      "text/plain": [
       "4"
      ]
     },
     "execution_count": 24,
     "metadata": {},
     "output_type": "execute_result"
    }
   ],
   "source": [
    "class Vehicle(ABC):\n",
    "    @abstractmethod\n",
    "    def get_no_wheels(self):\n",
    "        pass\n",
    "    \n",
    "    \n",
    "class Bus(Vehicle):\n",
    "    def get_no_wheels(self):\n",
    "        return 10\n",
    "    \n",
    "class Auto(Vehicle):\n",
    "    def get_no_wheels(self):\n",
    "        return 4\n",
    "    \n",
    "b = Bus()\n",
    "b.get_no_wheels()\n",
    "a=Auto()\n",
    "a.get_no_wheels()\n",
    "#What is the advantage of abstractmethod? \n",
    "#Compulsory child have to implement then only child will get the property of the parent \n"
   ]
  },
  {
   "cell_type": "code",
   "execution_count": 25,
   "metadata": {},
   "outputs": [
    {
     "ename": "TypeError",
     "evalue": "Can't instantiate abstract class C with abstract methods m2",
     "output_type": "error",
     "traceback": [
      "\u001b[1;31m---------------------------------------------------------------------------\u001b[0m",
      "\u001b[1;31mTypeError\u001b[0m                                 Traceback (most recent call last)",
      "\u001b[1;32m<ipython-input-25-12788576cffc>\u001b[0m in \u001b[0;36m<module>\u001b[1;34m\u001b[0m\n\u001b[0;32m     11\u001b[0m         \u001b[0mprint\u001b[0m\u001b[1;33m(\u001b[0m\u001b[1;34m'Implementing M1 method'\u001b[0m\u001b[1;33m)\u001b[0m\u001b[1;33m\u001b[0m\u001b[1;33m\u001b[0m\u001b[0m\n\u001b[0;32m     12\u001b[0m \u001b[1;33m\u001b[0m\u001b[0m\n\u001b[1;32m---> 13\u001b[1;33m \u001b[0mc\u001b[0m \u001b[1;33m=\u001b[0m \u001b[0mC\u001b[0m\u001b[1;33m(\u001b[0m\u001b[1;33m)\u001b[0m\u001b[1;33m\u001b[0m\u001b[1;33m\u001b[0m\u001b[0m\n\u001b[0m",
      "\u001b[1;31mTypeError\u001b[0m: Can't instantiate abstract class C with abstract methods m2"
     ]
    }
   ],
   "source": [
    "class P(ABC):\n",
    "    @abstractmethod\n",
    "    def m1(self):\n",
    "        pass\n",
    "    @abstractmethod\n",
    "    def m2(self):\n",
    "        pass\n",
    "    \n",
    "class C(P):\n",
    "    def m1(self):\n",
    "        print('Implementing M1 method')\n",
    "        \n",
    "c = C()"
   ]
  },
  {
   "cell_type": "code",
   "execution_count": 28,
   "metadata": {},
   "outputs": [
    {
     "name": "stdout",
     "output_type": "stream",
     "text": [
      "Implementing M1 method\n",
      "Implementing M2 method\n"
     ]
    }
   ],
   "source": [
    "class P(ABC):\n",
    "    @abstractmethod\n",
    "    def m1(self):\n",
    "        pass\n",
    "    @abstractmethod\n",
    "    def m2(self):\n",
    "        pass\n",
    "    \n",
    "class C(P):\n",
    "    def m1(self):\n",
    "        print('Implementing M1 method')\n",
    "    def m2(self):\n",
    "        print('Implementing M2 method')\n",
    "        \n",
    "c = C()\n",
    "c.m1()\n",
    "c.m2()"
   ]
  },
  {
   "cell_type": "code",
   "execution_count": 31,
   "metadata": {},
   "outputs": [
    {
     "name": "stdout",
     "output_type": "stream",
     "text": [
      "Implementation of M1\n",
      "Implementation of M2\n"
     ]
    }
   ],
   "source": [
    "class P(ABC):\n",
    "    @abstractmethod\n",
    "    def m1(self):\n",
    "        pass\n",
    "    @abstractmethod\n",
    "    def m2(self):\n",
    "        pass\n",
    "    \n",
    "class C(P):\n",
    "    def m1(self):\n",
    "        print('Implementation of M1')\n",
    "        \n",
    "class CC(C):\n",
    "    def m2(self):\n",
    "        print('Implementation of M2')\n",
    "        \n",
    "#c = C()\n",
    "c = CC()\n",
    "c.m1()\n",
    "c.m2()"
   ]
  },
  {
   "cell_type": "code",
   "execution_count": 32,
   "metadata": {},
   "outputs": [
    {
     "name": "stdout",
     "output_type": "stream",
     "text": [
      "Implementation of M1\n",
      "Implementation of M2\n"
     ]
    }
   ],
   "source": [
    "class P(ABC):\n",
    "    @abstractmethod\n",
    "    def m1(self): pass\n",
    "    def m2(self):\n",
    "        print('Implementation of M2')\n",
    "class C(P):\n",
    "    def m1(self):\n",
    "        print('Implementation of M1')\n",
    "c = C()\n",
    "c.m1()\n",
    "c.m2()"
   ]
  },
  {
   "cell_type": "code",
   "execution_count": 36,
   "metadata": {},
   "outputs": [],
   "source": [
    "#Interface - An abstract class which contains only abstract methods\n",
    "\n",
    "from abc import *\n",
    "class Interf(ABC):\n",
    "    @abstractmethod\n",
    "    def patients(self):\n",
    "        pass\n",
    "    def OPD(self):\n",
    "        pass\n",
    "    def Billing(self):\n",
    "        pass\n",
    "    def Operations(self):\n",
    "        pass\n",
    "#Not an interface \n",
    "from abc import *\n",
    "class Interf(ABC):\n",
    "    @abstractmethod\n",
    "    def patients(self):\n",
    "        pass\n",
    "    @abstractmethod\n",
    "    def OPD(self):\n",
    "        pass\n",
    "    @abstractmethod\n",
    "    def Billing(self):\n",
    "        pass\n",
    "    @abstractmethod\n",
    "    def Operations(self):\n",
    "        pass\n",
    "#Its an interface "
   ]
  },
  {
   "cell_type": "code",
   "execution_count": 37,
   "metadata": {},
   "outputs": [],
   "source": [
    "#When to go for interface vs Abstract class vs Concrete class\n",
    "# If we dont know any implemenation only requirement specification - Interface\n",
    "# If we are talking about implementation but not completely - Abstract class\n",
    "# If we are talking about implementation completely and ready to provide all the services - Concrete class"
   ]
  },
  {
   "cell_type": "code",
   "execution_count": 39,
   "metadata": {},
   "outputs": [
    {
     "name": "stdout",
     "output_type": "stream",
     "text": [
      "10\n",
      "20\n"
     ]
    }
   ],
   "source": [
    "#Public , Private , Protected Members\n",
    "class Test:\n",
    "    x = 10\n",
    "    def __init__(self):\n",
    "        self.y = 20\n",
    "        \n",
    "t = Test()\n",
    "print(t.x)\n",
    "print(t.y)\n"
   ]
  },
  {
   "cell_type": "code",
   "execution_count": 40,
   "metadata": {},
   "outputs": [
    {
     "name": "stdout",
     "output_type": "stream",
     "text": [
      "10\n",
      "20\n"
     ]
    }
   ],
   "source": [
    "class Test:\n",
    "    _x = 10\n",
    "    def __init__(self):\n",
    "        self._y = 20\n",
    "        \n",
    "t = Test()\n",
    "print(t._x)\n",
    "print(t._y)"
   ]
  },
  {
   "cell_type": "code",
   "execution_count": 41,
   "metadata": {},
   "outputs": [
    {
     "ename": "AttributeError",
     "evalue": "'Test' object has no attribute '__x'",
     "output_type": "error",
     "traceback": [
      "\u001b[1;31m---------------------------------------------------------------------------\u001b[0m",
      "\u001b[1;31mAttributeError\u001b[0m                            Traceback (most recent call last)",
      "\u001b[1;32m<ipython-input-41-58bb15b31d30>\u001b[0m in \u001b[0;36m<module>\u001b[1;34m\u001b[0m\n\u001b[0;32m      5\u001b[0m \u001b[1;33m\u001b[0m\u001b[0m\n\u001b[0;32m      6\u001b[0m \u001b[0mt\u001b[0m \u001b[1;33m=\u001b[0m \u001b[0mTest\u001b[0m\u001b[1;33m(\u001b[0m\u001b[1;33m)\u001b[0m\u001b[1;33m\u001b[0m\u001b[1;33m\u001b[0m\u001b[0m\n\u001b[1;32m----> 7\u001b[1;33m \u001b[0mprint\u001b[0m\u001b[1;33m(\u001b[0m\u001b[0mt\u001b[0m\u001b[1;33m.\u001b[0m\u001b[0m__x\u001b[0m\u001b[1;33m)\u001b[0m\u001b[1;33m\u001b[0m\u001b[1;33m\u001b[0m\u001b[0m\n\u001b[0m\u001b[0;32m      8\u001b[0m \u001b[0mprint\u001b[0m\u001b[1;33m(\u001b[0m\u001b[0mt\u001b[0m\u001b[1;33m.\u001b[0m\u001b[0m__y\u001b[0m\u001b[1;33m)\u001b[0m\u001b[1;33m\u001b[0m\u001b[1;33m\u001b[0m\u001b[0m\n",
      "\u001b[1;31mAttributeError\u001b[0m: 'Test' object has no attribute '__x'"
     ]
    }
   ],
   "source": [
    "class Test:\n",
    "    __x = 10\n",
    "    def __init__(self):\n",
    "        self.__y = 20\n",
    "        \n",
    "t = Test()\n",
    "print(t.__x)\n",
    "print(t.__y)"
   ]
  },
  {
   "cell_type": "code",
   "execution_count": 42,
   "metadata": {},
   "outputs": [
    {
     "name": "stdout",
     "output_type": "stream",
     "text": [
      "{'_Test__y': 20}\n"
     ]
    }
   ],
   "source": [
    "print(t.__dict__)"
   ]
  },
  {
   "cell_type": "code",
   "execution_count": 43,
   "metadata": {},
   "outputs": [
    {
     "name": "stdout",
     "output_type": "stream",
     "text": [
      "20\n"
     ]
    }
   ],
   "source": [
    "print(t._Test__y)"
   ]
  },
  {
   "cell_type": "code",
   "execution_count": 44,
   "metadata": {},
   "outputs": [
    {
     "name": "stdout",
     "output_type": "stream",
     "text": [
      "10\n"
     ]
    }
   ],
   "source": [
    "print(Test._Test__x)"
   ]
  }
 ],
 "metadata": {
  "kernelspec": {
   "display_name": "Python 3",
   "language": "python",
   "name": "python3"
  },
  "language_info": {
   "codemirror_mode": {
    "name": "ipython",
    "version": 3
   },
   "file_extension": ".py",
   "mimetype": "text/x-python",
   "name": "python",
   "nbconvert_exporter": "python",
   "pygments_lexer": "ipython3",
   "version": "3.7.4"
  }
 },
 "nbformat": 4,
 "nbformat_minor": 2
}
