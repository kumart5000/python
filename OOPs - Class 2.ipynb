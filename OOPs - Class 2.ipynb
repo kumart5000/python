{
 "cells": [
  {
   "cell_type": "code",
   "execution_count": 3,
   "metadata": {},
   "outputs": [
    {
     "name": "stdout",
     "output_type": "stream",
     "text": [
      "Constructor Executing\n",
      "1263196039560\n",
      "Constructor Executing\n",
      "1263196039624\n"
     ]
    }
   ],
   "source": [
    "class Test: \n",
    "    def __init__(self):\n",
    "        print('Constructor Executing')\n",
    "        print(id(self))\n",
    "        \n",
    "t1 = Test()\n",
    "t2 = Test()"
   ]
  },
  {
   "cell_type": "code",
   "execution_count": 5,
   "metadata": {},
   "outputs": [
    {
     "name": "stdout",
     "output_type": "stream",
     "text": [
      "One arg constructor executing\n"
     ]
    }
   ],
   "source": [
    "class Test:\n",
    "    def __init__(self):\n",
    "        print('Constructor Executing')\n",
    "    def __init__(self, x):\n",
    "        print('One arg constructor executing')\n",
    "\n",
    "#t1 = Test()\n",
    "t2 = Test(10)"
   ]
  },
  {
   "cell_type": "code",
   "execution_count": 7,
   "metadata": {},
   "outputs": [
    {
     "name": "stdout",
     "output_type": "stream",
     "text": [
      "0 arg constructor executing\n"
     ]
    }
   ],
   "source": [
    "class Test:\n",
    "    def __init__(self,x):\n",
    "        print('One arg Constructor Executing')\n",
    "    def __init__(self):\n",
    "        print('0 arg constructor executing')\n",
    "\n",
    "t1 = Test()\n",
    "#t2 = Test(10)"
   ]
  },
  {
   "cell_type": "code",
   "execution_count": null,
   "metadata": {},
   "outputs": [],
   "source": [
    "m1()\n",
    "m1(x)\n",
    "m1(x,y)\n",
    "Method overloading"
   ]
  },
  {
   "cell_type": "code",
   "execution_count": 8,
   "metadata": {},
   "outputs": [],
   "source": [
    "#Self\n",
    "    #Self is a python provided implict default variable which is always pointing to current object\n",
    "    #By using self we can acccess variables,  methods of corresponding object\n",
    "    #In constructor self should be the first arg\n",
    "    ###Self is the 1st arguement in the instance method as well"
   ]
  },
  {
   "cell_type": "code",
   "execution_count": 9,
   "metadata": {},
   "outputs": [],
   "source": [
    "class Movie: \n",
    "    def __init__(self, name, hero, heroine, rating):\n",
    "        self.name = name\n",
    "        self.hero = hero\n",
    "        self.heroine = heroine\n",
    "        self.rating = rating\n",
    "        #Instance variables\n",
    "    def info(self):\n",
    "        print('Movie name:', self.name)\n",
    "        print('Hero name:', self.hero)\n",
    "        print('Heroine Name:', self.heroine)\n",
    "        print('Movie Rating:', self.rating)\n",
    "        "
   ]
  },
  {
   "cell_type": "code",
   "execution_count": 15,
   "metadata": {},
   "outputs": [],
   "source": [
    "movies = [Movie('PK', 'AK','AS',10), Movie('PK', 'AK','AS',10), \n",
    " Movie('XYz', 'rt','tt',8), Movie('uyt', 'ee','uy',0)]"
   ]
  },
  {
   "cell_type": "code",
   "execution_count": 16,
   "metadata": {},
   "outputs": [
    {
     "name": "stdout",
     "output_type": "stream",
     "text": [
      "Movie name: PK\n",
      "Hero name: AK\n",
      "Heroine Name: AS\n",
      "Movie Rating: 10\n",
      "Movie name: PK\n",
      "Hero name: AK\n",
      "Heroine Name: AS\n",
      "Movie Rating: 10\n",
      "Movie name: XYz\n",
      "Hero name: rt\n",
      "Heroine Name: tt\n",
      "Movie Rating: 8\n",
      "Movie name: uyt\n",
      "Hero name: ee\n",
      "Heroine Name: uy\n",
      "Movie Rating: 0\n"
     ]
    }
   ],
   "source": [
    "for mov in movies:\n",
    "    mov.info()"
   ]
  },
  {
   "cell_type": "code",
   "execution_count": 17,
   "metadata": {},
   "outputs": [],
   "source": [
    "#Different types of variables\n",
    "\n",
    "###Instance variables (Object level)\n",
    "#Static variable (Class level)\n",
    "#Local variable (Method level)"
   ]
  },
  {
   "cell_type": "code",
   "execution_count": 18,
   "metadata": {},
   "outputs": [],
   "source": [
    "#Instance Variables \n",
    "    #If the value of the variable is varying from object to object - Instance variables\n",
    "    #A seperate copy of instance variable is created for every object\n",
    "    \n",
    "#Where can we declare instance variables : \n",
    "    #1. Inside constructor by using self variable\n",
    "    #2. Inside instance method by using self variable \n",
    "    #3. Outside of the class by using object reference variables "
   ]
  },
  {
   "cell_type": "code",
   "execution_count": 27,
   "metadata": {},
   "outputs": [
    {
     "name": "stdout",
     "output_type": "stream",
     "text": [
      "{'eno': 1000, 'ename': 'Rahul', 'sal': 10000}\n"
     ]
    }
   ],
   "source": [
    "#1. Inside constructor by using self variable\n",
    "class Employee:\n",
    "    '''Instance variables declared inside constructor'''\n",
    "    def __init__(self):\n",
    "        self.eno = 1000\n",
    "        self.ename = 'Rahul'\n",
    "        self.sal = 10000\n",
    "emp = Employee()\n",
    "print(emp.__dict__)"
   ]
  },
  {
   "cell_type": "code",
   "execution_count": 28,
   "metadata": {},
   "outputs": [
    {
     "name": "stdout",
     "output_type": "stream",
     "text": [
      "{'eno': 1, 'ename': 'Rakshit', 'sal': 10000}\n",
      "\n",
      "{'eno': 2, 'ename': 'Milind', 'sal': 20000}\n"
     ]
    }
   ],
   "source": [
    "#1. Inside constructor by using self variable\n",
    "class Employee:\n",
    "    '''Instance variables declared inside constructor'''\n",
    "    def __init__(self, eno, ename, sal):\n",
    "        self.eno = eno\n",
    "        self.ename = ename\n",
    "        self.sal = sal\n",
    "emp1 = Employee(1,'Rakshit', 10000)\n",
    "emp2 = Employee(2, 'Milind', 20000)\n",
    "print(emp1.__dict__)\n",
    "print()\n",
    "print(emp2.__dict__)"
   ]
  },
  {
   "cell_type": "code",
   "execution_count": 30,
   "metadata": {},
   "outputs": [
    {
     "name": "stdout",
     "output_type": "stream",
     "text": [
      "{'b': 20}\n"
     ]
    }
   ],
   "source": [
    "#2. Inside instance method by using self variable \n",
    "class Employee:\n",
    "    def __init__(self):\n",
    "        pass\n",
    "    def m1(self):\n",
    "        '''Inside the method'''\n",
    "        self.b = 20\n",
    "emp1 = Employee()\n",
    "emp1.m1()\n",
    "print(emp1.__dict__)"
   ]
  },
  {
   "cell_type": "code",
   "execution_count": 32,
   "metadata": {},
   "outputs": [
    {
     "name": "stdout",
     "output_type": "stream",
     "text": [
      "{'b': 20}\n",
      "{'b': 20, 'c': 30}\n"
     ]
    }
   ],
   "source": [
    "#3. Outside of the class by using object reference variables \n",
    "class Employee:\n",
    "    def __init__(self):\n",
    "        pass\n",
    "    def m1(self):\n",
    "        '''Inside the method'''\n",
    "        self.b = 20\n",
    "emp1 = Employee()\n",
    "emp1.m1()\n",
    "print(emp1.__dict__)\n",
    "emp1.c=30\n",
    "print(emp1.__dict__)"
   ]
  },
  {
   "cell_type": "code",
   "execution_count": 33,
   "metadata": {},
   "outputs": [
    {
     "name": "stdout",
     "output_type": "stream",
     "text": [
      "20\n",
      "30\n"
     ]
    }
   ],
   "source": [
    "#How to access the Instance variables\n",
    "#Within the class by using self\n",
    "class Test:\n",
    "    def __init__(self):\n",
    "        self.a = 20\n",
    "        self.b = 30\n",
    "    def m1(self):\n",
    "        print(self.a)\n",
    "        print(self.b)\n",
    "t= Test()\n",
    "t.m1()"
   ]
  },
  {
   "cell_type": "code",
   "execution_count": 35,
   "metadata": {},
   "outputs": [
    {
     "name": "stdout",
     "output_type": "stream",
     "text": [
      "20\n",
      "30\n"
     ]
    }
   ],
   "source": [
    "#Outside the class by using object reference \n",
    "print(t.a)\n",
    "print(t.b)"
   ]
  },
  {
   "cell_type": "code",
   "execution_count": 38,
   "metadata": {},
   "outputs": [
    {
     "name": "stdout",
     "output_type": "stream",
     "text": [
      "{'a': 10, 'b': 20, 'c': 30, 'd': 40}\n",
      "{'a': 10, 'c': 30, 'd': 40}\n"
     ]
    }
   ],
   "source": [
    "#How to delete the instance variables\n",
    "#del self.variablename - within the class\n",
    "class Test:\n",
    "    def __init__(self):\n",
    "        self.a = 10\n",
    "        self.b = 20\n",
    "        self.c = 30\n",
    "        self.d = 40\n",
    "    def m1(self):\n",
    "        del self.b\n",
    "t = Test()\n",
    "print(t.__dict__)\n",
    "t.m1()\n",
    "print(t.__dict__)"
   ]
  },
  {
   "cell_type": "code",
   "execution_count": 39,
   "metadata": {},
   "outputs": [
    {
     "name": "stdout",
     "output_type": "stream",
     "text": [
      "{'c': 30, 'd': 40}\n"
     ]
    }
   ],
   "source": [
    "#Outside the class - del obj.val\n",
    "del t.a\n",
    "print(t.__dict__)"
   ]
  },
  {
   "cell_type": "code",
   "execution_count": 43,
   "metadata": {},
   "outputs": [
    {
     "name": "stdout",
     "output_type": "stream",
     "text": [
      "{'a': 10}\n",
      "{'a': 777, 'b': 888}\n",
      "{'a': 777, 'b': 1000}\n",
      "{'a': 777, 'b': 1000, 'c': 2000}\n"
     ]
    }
   ],
   "source": [
    "class Test:\n",
    "    def __init__(self):\n",
    "        self.a = 10\n",
    "    def m1(self):\n",
    "        self.a = 777\n",
    "        self.b = 888\n",
    "t = Test()\n",
    "print(t.__dict__)\n",
    "t.m1()\n",
    "print(t.__dict__)\n",
    "t.b = 1000\n",
    "print(t.__dict__)\n",
    "t.c = 2000\n",
    "print(t.__dict__)"
   ]
  },
  {
   "cell_type": "code",
   "execution_count": 52,
   "metadata": {},
   "outputs": [
    {
     "name": "stdout",
     "output_type": "stream",
     "text": [
      "{'b': 777, 'a': 888}\n"
     ]
    }
   ],
   "source": [
    "class Test:\n",
    "    a = 10\n",
    "    def __init__(self):\n",
    "        self.b = 20\n",
    "t1 = Test()\n",
    "#print(t1.__dict__)\n",
    "t1.b = 777\n",
    "#print(t1.__dict__)\n",
    "t1.a = 888\n",
    "print(t1.__dict__)\n",
    "#print(t1.a, t1.b)"
   ]
  },
  {
   "cell_type": "code",
   "execution_count": 48,
   "metadata": {},
   "outputs": [
    {
     "name": "stdout",
     "output_type": "stream",
     "text": [
      "10 20\n",
      "{'b': 20}\n"
     ]
    }
   ],
   "source": [
    "t2 = Test()\n",
    "print(t2.a, t2.b)\n",
    "print(t2.__dict__)"
   ]
  },
  {
   "cell_type": "code",
   "execution_count": null,
   "metadata": {},
   "outputs": [],
   "source": []
  },
  {
   "cell_type": "code",
   "execution_count": null,
   "metadata": {},
   "outputs": [],
   "source": []
  },
  {
   "cell_type": "code",
   "execution_count": null,
   "metadata": {},
   "outputs": [],
   "source": []
  },
  {
   "cell_type": "code",
   "execution_count": null,
   "metadata": {},
   "outputs": [],
   "source": []
  },
  {
   "cell_type": "code",
   "execution_count": null,
   "metadata": {},
   "outputs": [],
   "source": []
  }
 ],
 "metadata": {
  "kernelspec": {
   "display_name": "Python 3",
   "language": "python",
   "name": "python3"
  },
  "language_info": {
   "codemirror_mode": {
    "name": "ipython",
    "version": 3
   },
   "file_extension": ".py",
   "mimetype": "text/x-python",
   "name": "python",
   "nbconvert_exporter": "python",
   "pygments_lexer": "ipython3",
   "version": "3.8.3"
  }
 },
 "nbformat": 4,
 "nbformat_minor": 2
}
